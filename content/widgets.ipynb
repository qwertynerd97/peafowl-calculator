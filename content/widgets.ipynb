{
 "cells": [
  {
   "cell_type": "code",
   "execution_count": 1,
   "id": "eec801de-e687-4522-bdfb-f0f14ddbf819",
   "metadata": {},
   "outputs": [],
   "source": [
    "import ipywidgets as widgets\n",
    "from contextlib import ExitStack"
   ]
  },
  {
   "cell_type": "code",
   "execution_count": null,
   "id": "e9486e67-474d-421e-b4bc-8836d7892761",
   "metadata": {},
   "outputs": [],
   "source": [
    "# Import the converter functions\n",
    "# Putting them in a seperate notebook allows us to add\n",
    "# details and descriptions without affecting the UI\n",
    "%run ./converters.ipynb"
   ]
  },
  {
   "cell_type": "markdown",
   "id": "0fda24fe-a449-449e-b8c3-63d3fe1cab5a",
   "metadata": {},
   "source": [
    "# Widgets"
   ]
  },
  {
   "cell_type": "code",
   "execution_count": 2,
   "id": "67008b47-9ebf-4a60-a147-111ccd553ec8",
   "metadata": {},
   "outputs": [],
   "source": [
    "# This function creates a handful of widgets that\n",
    "# allow users to select the phenotype of a bird\n",
    "# If we then assume all traits breed true, we\n",
    "# can generate a genotype without making the\n",
    "# user understand bird genetics\n",
    "def createPeacockPhenotypeWidgets(peacockName, sex):\n",
    "    colorList = ['Wild Type'] + list(set(\n",
    "        # TECH EXPLANATION\n",
    "        # lambda indicates an inline function\n",
    "        # map() means that the lambda function is called for each item in the colorGenes array\n",
    "        # It converts each gene's dictionary into just the name column\n",
    "        # list() turns that map back into an array\n",
    "        # The goal here is to make sure all genes show up as human readable options \n",
    "        # in the list, and they don't get out of sync with each other\n",
    "        list(map(lambda gene: gene['name'], colorGenes)) + \n",
    "        list(map(lambda allotype: allotype['name'], sexLinkedColorAllotypes)) +\n",
    "        list(map(lambda phenotype: phenotype['name'], multiGeneColors)) +\n",
    "        list(map(lambda phenotype: phenotype['name'], sexAndAutosomalComboColors)) +\n",
    "        # Only add the het sex colors if the bird is male - female birds can't have het sex traits\n",
    "        (list(map(lambda phenotype: phenotype['name'], hetSexColors)) if sex == 'Male' else [])))\n",
    "        \n",
    "    \n",
    "    color = widgets.Dropdown(\n",
    "        options=colorList,\n",
    "        value=colorList[0],\n",
    "        description='Color:',\n",
    "        disabled=False,\n",
    "    )\n",
    "\n",
    "    # See colorList for technical explanation\n",
    "    patternList = ['Barred Wing Wild Type'] + list(set(\n",
    "        list(map(lambda gene: gene['name'], patternGenes))))\n",
    "    pattern = widgets.Dropdown(\n",
    "        options=patternList,\n",
    "        value=patternList[0],\n",
    "        description='Pattern:',\n",
    "        disabled=False,\n",
    "    )\n",
    "    \n",
    "    # See colorList for technical explanation\n",
    "    piedList = ['Non-Leucistic Wild Type'] + list(set(\n",
    "       list(map(lambda allotype: allotype['name'], piedAllotypes)) +\n",
    "       list(map(lambda phenotype: phenotype['name'], hetPied))))\n",
    "    \n",
    "    pied = widgets.Dropdown(\n",
    "        options=piedList,\n",
    "        value=piedList[0],\n",
    "        description='Pied:',\n",
    "        disabled=False,\n",
    "    )\n",
    "\n",
    "    eyeList = ['Non-Leucistic Wild Type'] + list(set(\n",
    "       list(map(lambda allotype: allotype['name'], whiteEyeAllotypes))))\n",
    "    \n",
    "    eye = widgets.Dropdown(\n",
    "        options=eyeList,\n",
    "        value=eyeList[0],\n",
    "        description='Leucistic Eye:',\n",
    "        disabled=False,\n",
    "    )\n",
    "\n",
    "    return (\n",
    "        widgets.VBox([\n",
    "            widgets.Label(value=peacockName),\n",
    "            color, pattern, pied, eye\n",
    "        ]),\n",
    "        {\n",
    "            'color': color,\n",
    "            'pattern': pattern,\n",
    "            'pied': pied,\n",
    "            'eye': eye\n",
    "        }\n",
    "    )"
   ]
  },
  {
   "cell_type": "code",
   "execution_count": 8,
   "id": "91e55268-ddc2-47ad-865e-1d9dae2078aa",
   "metadata": {},
   "outputs": [],
   "source": [
    "# This lets us turn a single gene into a genotype widget\n",
    "# We will run this function over all the autosomal color genes\n",
    "# and the shoulder genes to generate appropriate widgets\n",
    "def createGenotypeWidgetFromGene(gene):\n",
    "    possibilities = [\n",
    "        'WT/WT', \n",
    "        'WT/' + gene['notation'],\n",
    "        gene['notation'] + '/' + gene['notation']\n",
    "    ]\n",
    "    return widgets.Dropdown(\n",
    "        options=possibilities,\n",
    "        value=possibilities[0],\n",
    "        description=gene['name'] + ':',\n",
    "        disabled=False,\n",
    "    )\n",
    "\n",
    "# For sex-linked genes, we want to change the genotype based on sex,\n",
    "# and treat different allotypes as mutually exclusive\n",
    "def createMultiAllotypeGeneWidget(geneName, wildType, allotypes, sex, geneIsSexLinked = False):\n",
    "    allotypesWithWild = [wildType] + allotypes\n",
    "    possibilities = []\n",
    "\n",
    "    # Iterate through each allotype as a possible first allele.\n",
    "    # In this case, we use enumerate instead of a normal for each loop so we can limit\n",
    "    # the loop of the second allele and prevent duplicate genotypes\n",
    "    for index, firstAllele in enumerate(allotypesWithWild):\n",
    "        if geneIsSexLinked and sex == 'Female':\n",
    "            # For females just add the missing sex chromasome 'w' to the first allele\n",
    "            possibilities.append(firstAllele['notation'] + '/w');\n",
    "        else:\n",
    "            # For double-allele genes, iterate through each allotype starting with the firstAllele as a possible second allele\n",
    "            # This gives us every possible combination of alleles without duplicates \n",
    "            # You can think of it as the top trianlge of a possibilities square\n",
    "            # The [index:] selects all items in the list starting with the same item as the current firstAllele\n",
    "            for secondAllele in allotypesWithWild[index:]:\n",
    "                possibilities.append(firstAllele['notation'] + '/' + secondAllele['notation'])\n",
    "    \n",
    "    return widgets.Dropdown(\n",
    "        options=possibilities,\n",
    "        value=possibilities[0],\n",
    "        description=geneName+ \":\",\n",
    "        disabled=False,\n",
    "    )\n",
    "\n",
    "# Used for troubleshooting bugs with print()\n",
    "output = widgets.Output()\n",
    "\n",
    "# When genotype changes, update the related phenotype\n",
    "# TODO - add input arrays to saveGenotypeToBird\n",
    "def handleGenotypeChange(genotypeWidgets, phenotypeWidget, bird, sex, geneName, newGenotype, wildType, simpleGenes, multiAllotypeGenes, \n",
    "                         hetTraits, multiGeneTraits):\n",
    "    with output:\n",
    "        saveGenotypeToBird(bird, geneName, newGenotype)\n",
    "        (phenotype, prevPhenotypes, unknown) = getPhenotypeFromBird(bird, sex, wildType, simpleGenes, multiAllotypeGenes, \n",
    "                                                                    hetTraits, multiGeneTraits)\n",
    "        \n",
    "        # Set the index and the value of the phenotype widget to match the new genotype\n",
    "        # We have to set both, or else the display won't update properly\n",
    "        # We also have to pause notifications on the phenotypeWidget while we update them\n",
    "        # so that all the values are properly in sync\n",
    "        with phenotypeWidget.hold_trait_notifications():\n",
    "            phenotypeWidget.value = phenotype\n",
    "            phenotypeWidget.index = phenotypeWidget.options.index(phenotype)\n",
    "        \n",
    "\n",
    "def handlePhenotypeChange(thisWidget, genotypeWidgets, bird, sex, phenotype, simpleGenes,\n",
    "                          multiAllotypeGenes, sexLinkedAllotypes, multiGeneTraits, sexAndAutosomalCombos, hetSexTraits):\n",
    "    with output:\n",
    "        savePhenotypeToBird(bird, phenotype, sex, simpleGenes, multiAllotypeGenes, sexLinkedAllotypes, \n",
    "                            multiGeneTraits, sexAndAutosomalCombos, hetSexTraits)\n",
    "\n",
    "        # We need to wait until all genotype widgets have been updated before handling the update notification\n",
    "        # so that multi-gene traits don't erase themselves\n",
    "        # There is really not an easily non-technical way to translate the next two lines, which holds the notifications\n",
    "        # basically, it tells each genotype widget to wait to send notifications, and then creates a code block that will\n",
    "        # run while those notifications are being paused\n",
    "        # Once the code block is finished, then all notifications will be unpaused and fired at once\n",
    "        with ExitStack() as stack:\n",
    "            holds = [stack.enter_context(w.hold_trait_notifications()) for w in colorArray]\n",
    "            \n",
    "            for widget in genotypeWidgets:\n",
    "                if widget.description[:-1] in bird:\n",
    "                    widget.value = bird[widget.description[:-1]]\n",
    "                    widget.index = widget.options.index(bird[widget.description[:-1]])\n",
    "                else:\n",
    "                    widget.value = widget.options[0]\n",
    "                    widget.index = 0\n",
    "\n",
    "def createPeacockGenotypeWidgets(peacockName, sex, phenotypeWidgets):\n",
    "    bird = {}\n",
    "    \n",
    "    # For each possible color, create a widget with genotype options\n",
    "    colors = []\n",
    "    for gene in colorGenes:\n",
    "        widget = createGenotypeWidgetFromGene(gene)\n",
    "        colors.append(widget)\n",
    "        # This updates the color phenotype whenever any color genotype changes\n",
    "        widget.observe(\n",
    "            lambda changedValue, geneName=gene['name']: \n",
    "                handleGenotypeChange(colors, phenotypeWidgets['color'], bird, sex, geneName, changedValue['new'], \n",
    "                                     \"Wild Type\", colorGenes, \n",
    "                                     [{ 'name': 'Sex-Linked Color', 'allotypes': sexLinkedColorAllotypes, 'sexLinked': True }],\n",
    "                                     hetSexColors, multiGeneColors), \n",
    "            'value')\n",
    "\n",
    "    # Create a single widget for all the sex-linked color varients\n",
    "    sexLinkedColor = createMultiAllotypeGeneWidget('Sex-Linked Color', { 'notation': 'Z(WT)', 'name': 'Wild Type' }, \n",
    "                                                   sexLinkedColorAllotypes, sex, True)\n",
    "    colors.append(sexLinkedColor)\n",
    "    # This updates the phenotype whenever the sex-linked color genotype changes\n",
    "    sexLinkedColor.observe(\n",
    "        lambda changedValue, sex=sex: \n",
    "            handleGenotypeChange(colors, phenotypeWidgets['color'], bird, sex, 'Sex-Linked Color', changedValue['new'],\n",
    "                                 \"Wild Type\", colorGenes, \n",
    "                                 [{ 'name': 'Sex-Linked Color', 'allotypes': sexLinkedColorAllotypes, 'sexLinked': True }],\n",
    "                                 hetSexColors, multiGeneColors), \n",
    "        'value')\n",
    "\n",
    "    # This updates the genotype(s) when the color phenotype changes\n",
    "    phenotypeWidgets['color'].observe(\n",
    "        lambda changedValue: \n",
    "            handlePhenotypeChange(phenotypeWidgets['color'], colors, bird, sex, changedValue['new'], \n",
    "                                  colorGenes, \n",
    "                                  [{ 'name': 'Sex-Linked Color', 'allotypes': sexLinkedColorAllotypes, 'sexLinked': True }], \n",
    "                                  sexLinkedColorAllotypes, multiGeneColors,  sexAndAutosomalComboColors, hetSexColors), \n",
    "            'value')\n",
    "\n",
    "    # Create a single widget for Pied genes\n",
    "    pied = createMultiAllotypeGeneWidget('Pied', { 'notation': 'WT', 'name': 'Non-Leucistic Wild Type' }, \n",
    "                                                   piedAllotypes, sex)\n",
    "    # This updates the phenotype whenever the sex-linked color genotype changes\n",
    "    pied.observe(\n",
    "        lambda changedValue, sex=sex: \n",
    "            handleGenotypeChange([pied], phenotypeWidgets['pied'], bird, sex, 'Pied', changedValue['new'], \n",
    "                                \"Non-Leucistic Wild Type\", [], \n",
    "                                [{ 'name': 'Pied', 'allotypes': piedAllotypes, 'sexLinked': False }],\n",
    "                                hetPied, []), \n",
    "        'value')\n",
    "\n",
    "    # This updates the genotype(s) when the color phenotype changes\n",
    "    phenotypeWidgets['pied'].observe(\n",
    "        lambda changedValue: \n",
    "            handlePhenotypeChange(phenotypeWidgets['pied'], [pied], bird, sex, changedValue['new'], \n",
    "                                       [], \n",
    "                                       [{ 'name': 'Pied', 'allotypes': piedAllotypes, 'sexLinked': False }], \n",
    "                                       [], [],  [], hetPied), \n",
    "            'value')\n",
    "\n",
    "    # Create a single widget for Leucistic Eye genes\n",
    "    whiteEye = createMultiAllotypeGeneWidget('Leucistic Eye', { 'notation': 'WT', 'name': 'Non-Leucistic Wild Type' }, \n",
    "                                                   whiteEyeAllotypes, sex)\n",
    "    # This updates the phenotype whenever the Leucistic Eye genotype changes\n",
    "    whiteEye.observe(\n",
    "        lambda changedValue, sex=sex: \n",
    "            handleGenotypeChange([whiteEye], phenotypeWidgets['eye'], bird, sex, 'Leucistic Eye', changedValue['new'], \n",
    "                                \"Non-Leucistic Wild Type\", [], \n",
    "                                [{ 'name': 'Leucistic Eye', 'allotypes': whiteEyeAllotypes, 'sexLinked': False }],\n",
    "                                hetWhite, []),'value')\n",
    "\n",
    "    # This updates the genotype(s) when the Leucistic Eye phenotype changes\n",
    "    phenotypeWidgets['eye'].observe(\n",
    "        lambda changedValue: \n",
    "            handlePhenotypeChange(phenotypeWidgets['eye'], [whiteEye], bird, sex, changedValue['new'], [], \n",
    "                                  [{ 'name': 'Leucistic Eye', 'allotypes': whiteEyeAllotypes, 'sexLinked': False }], \n",
    "                                  [], [], [], hetWhite), \n",
    "        'value')\n",
    "\n",
    "    return (\n",
    "        widgets.VBox([widgets.Label(value=peacockName)] + colors + [pied, whiteEye]),\n",
    "        {\n",
    "            'colors': colors,\n",
    "            'pied': pied,\n",
    "            'eye': whiteEye\n",
    "        }\n",
    "    )"
   ]
  },
  {
   "cell_type": "code",
   "execution_count": null,
   "id": "7e82d1fb-a371-4be0-8313-18ea40326367",
   "metadata": {},
   "outputs": [],
   "source": [
    "def generatePeafowlImage(sex, color):\n",
    "    # Color should be the base layer\n",
    "    colorImageName = \"Images/\" + sex + \"/Color/\" + color + \".png\"\n",
    "    if not os.path.isfile(colorImageName):\n",
    "        # Default to the unknown color if we don't have an image\n",
    "        # for the defined color\n",
    "        colorImageName = \"Images/\" + sex + \"/Color/Unknown.png\"\n",
    "\n",
    "    # Open the file for the color image\n",
    "    peafowlColor = Image.open(colorImageName)\n",
    "    # Open the lineart image\n",
    "    peafowlLineart = Image.open(\"Images/\" + sex + \"/lineart.png\")\n",
    "\n",
    "    # Merge the images as layers\n",
    "    peafowlColor.paste(peafowlLineart, (0, 0), peafowlLineart)\n",
    "\n",
    "    # Extract the image data as bytes\n",
    "    imageData = io.BytesIO()\n",
    "    peafowlColor.save(imageData, format='PNG')\n",
    "\n",
    "    # Return a widget-compatible image\n",
    "    return imageData"
   ]
  },
  {
   "cell_type": "code",
   "execution_count": null,
   "id": "4367baac-f0ac-4ea8-a56d-e5f2480abf1a",
   "metadata": {},
   "outputs": [],
   "source": [
    "# Define color genes\n",
    "colorGenes = [\n",
    "    # Note: the \"default\" gene aka Wild Type is not included because it is a special\n",
    "    # case that can apply to alleles of any gene\n",
    "    { 'notation': 'br',      'name': 'Bronze' },\n",
    "    { 'notation': 'o',       'name': 'Opal' },\n",
    "    { 'notation': 'md',      'name': 'Midnight' },\n",
    "    { 'notation': 'j',       'name': 'Jade' },\n",
    "    { 'notation': 'mo',      'name': 'Montana' },\n",
    "    { 'notation': 'ch',      'name': 'Charcoal' },\n",
    "    { 'notation': 'st',      'name': 'Steel' },\n",
    "    { 'notation': 'um',      'name': 'Ultramarine' },\n",
    "    { 'notation': 'bu',      'name': 'Burnt Umber' }\n",
    "]\n",
    "\n",
    "sexLinkedColorAllotypes = [\n",
    "    { 'notation': 'Z(c)',    'name': 'Cameo' },\n",
    "    { 'notation': 'Z(pl)',   'name': 'American Purple' },\n",
    "    { 'notation': 'Z(va)',   'name': 'Sonja\\'s Violet' },\n",
    "    { 'notation': 'Z(ve)',   'name': 'European Violet' },\n",
    "    # Note: even though peach is actually 2 genes, we are treating\n",
    "    # it as one for the sake of this code, and dealing with het Peach\n",
    "    # as a special phenotype\n",
    "    { 'notation': 'Z(pl:c)', 'name': 'Peach' }\n",
    "]\n",
    "\n",
    "# Define what genes combinations form special colors\n",
    "multiGeneColors = [\n",
    "    { 'name': 'Platinum',   'genesNeeded': ['Bronze', 'Opal' ] },\n",
    "    { 'name': 'Taupe',      'genesNeeded': ['American Purple', 'Opal' ] },\n",
    "    { 'name': 'Mocha',      'genesNeeded': ['American Purple', 'Midnight' ] },\n",
    "    { 'name': 'Ivory',      'genesNeeded': ['Cameo', 'Opal' ] },\n",
    "    { 'name': 'Indigo',     'genesNeeded': ['American Purple', 'Bronze' ] },\n",
    "    { 'name': 'Hazel',      'genesNeeded': ['American Purple', 'Bronze' ] },\n",
    "    { 'name': 'Cinnamon',   'genesNeeded': ['Cameo', 'Bronze' ] }\n",
    "]\n",
    "\n",
    "sexAndAutosomalComboColors = [\n",
    "    { 'name': 'Taupe',         'autosomalGene': 'o',  'sexGene': 'Z(pl)' },\n",
    "    { 'name': 'Mocha',         'autosomalGene': 'md', 'sexGene': 'Z(pl)' },\n",
    "    { 'name': 'Ivory',         'autosomalGene': 'o',  'sexGene': 'Z(c)' },\n",
    "    { 'name': 'Indigo',        'autosomalGene': 'br', 'sexGene': 'Z(pl)' },\n",
    "    { 'name': 'Hazel',         'autosomalGene': 'br', 'sexGene': 'Z(pl)' }\n",
    "]\n",
    "\n",
    "hetSexColors = [\n",
    "    { 'name': 'Midway between Violet and Purple', 'geneName': 'Sex-Linked Color', 'alleles': ['Z(pl)', 'Z(ve)'] },\n",
    "    { 'name': 'Cameo', 'geneName': 'Sex-Linked Color', 'alleles': ['Z(c)', 'Z(pl:c)'] },\n",
    "    { 'name': 'American Purple', 'geneName': 'Sex-Linked Color', 'alleles': ['Z(pl)', 'Z(pl:c)'] }\n",
    "]\n",
    "\n",
    "# Define pattern genes\n",
    "patternGenes = [\n",
    "    { 'notation': 'bs',      'name': 'Blackshoulder' }\n",
    "]\n",
    "\n",
    "# Define leucistic genes\n",
    "leucisticGenes = [\n",
    "    { 'notation': 'p',       'name': 'Pied' },\n",
    "    { 'notation': 'WE',       'name': 'White Eye' }\n",
    "]\n",
    "\n",
    "piedAllotypes = [\n",
    "    { 'notation': 'p',       'name': 'Dark Pied' },\n",
    "    { 'notation': 'W',       'name': 'White' }\n",
    "]\n",
    "\n",
    "# Pied special cases\n",
    "hetPied = [\n",
    "    { 'name': 'Pied',      'geneName': 'Pied', 'alleles': ['p', 'W'] },\n",
    "    { 'name': 'Dark Pied', 'geneName': 'Pied', 'alleles': ['WT', 'W'] },\n",
    "    { 'name': 'Dark Pied', 'geneName': 'Pied', 'alleles': ['WT', 'p'] }\n",
    "]\n",
    "\n",
    "whiteEyeAllotypes = [\n",
    "    { 'notation': 'WE',      'name': 'White Eye' },\n",
    "    { 'notation': 'sWE',     'name': 'Silver White Eye' }\n",
    "]\n",
    "\n",
    "hetWhite = [\n",
    "    { 'name': 'Silver White Eye',      'geneName': 'White Eye', 'alleles': ['WE', 'sWE'] },\n",
    "    { 'name': 'Dark Pied', 'geneName': 'Pied', 'alleles': ['WT', 'W'] },\n",
    "    { 'name': 'Dark Pied', 'geneName': 'Pied', 'alleles': ['WT', 'p'] }\n",
    "]"
   ]
  },
  {
   "cell_type": "code",
   "execution_count": null,
   "id": "6581dd53-8c84-4754-9de6-4235eefda83d",
   "metadata": {},
   "outputs": [],
   "source": [
    "colorList = ['Wild Type'] + list(set(\n",
    "        # TECH EXPLANATION\n",
    "        # lambda indicates an inline function\n",
    "        # map() means that the lambda function is called for each item in the colorGenes array\n",
    "        # It converts each gene's dictionary into just the name column\n",
    "        # list() turns that map back into an array\n",
    "        # The goal here is to make sure all genes show up as human readable options \n",
    "        # in the list, and they don't get out of sync with each other\n",
    "        list(map(lambda gene: gene['name'], colorGenes)) + \n",
    "        list(map(lambda allotype: allotype['name'], sexLinkedColorAllotypes)) +\n",
    "        list(map(lambda phenotype: phenotype['name'], multiGeneColors)) +\n",
    "        list(map(lambda phenotype: phenotype['name'], sexAndAutosomalComboColors)) +\n",
    "        # Only add the het sex colors if the bird is male - female birds can't have het sex traits\n",
    "        (list(map(lambda phenotype: phenotype['name'], hetSexColors)))))\n",
    "\n",
    "color = widgets.Dropdown(\n",
    "    options=colorList,\n",
    "    value=colorList[0],\n",
    "    description='Color:',\n",
    "    disabled=False,\n",
    ")\n",
    "\n",
    "colors = {}\n",
    "colorArray = []\n",
    "for gene in colorGenes:\n",
    "    widget = createGenotypeWidgetFromGene(gene)\n",
    "    colors[gene['name']] = widget\n",
    "    colorArray.append(widget)\n",
    "\n",
    "def updateBird(bird, phenotype, **kwargs):\n",
    "    output.clear_output()\n",
    "    with output:\n",
    "        (currPhenotype, phenotypes, unknown) = getPhenotypeFromBird(bird, 'Male', 'Wild Type', colorGenes, \n",
    "                                               [{ 'name': 'Sex-Linked Color', 'allotypes': sexLinkedColorAllotypes, 'sexLinked': True }], \n",
    "                                               hetSexColors, multiGeneColors)\n",
    "        if phenotype != currPhenotype:\n",
    "            savePhenotypeToBird(bird, phenotype, 'Male', colorGenes, \n",
    "                                [{ 'name': 'Sex-Linked Color', 'allotypes': sexLinkedColorAllotypes, 'sexLinked': True }], \n",
    "                                sexLinkedColorAllotypes, multiGeneColors,  sexAndAutosomalComboColors, hetSexColors)\n",
    "            \n",
    "            # We need to wait until all genotype widgets have been updated before handling the update notification\n",
    "            # so that multi-gene traits don't erase themselves\n",
    "            # There is really not an easily non-technical way to translate the next two lines, which holds the notifications\n",
    "            # basically, it tells each genotype widget to wait to send notifications, and then creates a code block that will\n",
    "            # run while those notifications are being paused\n",
    "            # Once the code block is finished, then all notifications will be unpaused and fired at once\n",
    "            with ExitStack() as stack:\n",
    "                holds = [stack.enter_context(w.hold_trait_notifications()) for w in colorArray]\n",
    "                \n",
    "                for widget in colorArray:\n",
    "                    with widget.hold_trait_notifications():\n",
    "                        if widget.description[:-1] in bird:\n",
    "                            widget.value = bird[widget.description[:-1]]\n",
    "                            widget.index = widget.options.index(bird[widget.description[:-1]])\n",
    "                        else:\n",
    "                            widget.value = widget.options[0]\n",
    "                            widget.index = 0\n",
    "        else:\n",
    "            for gene in colorGenes:\n",
    "                saveGenotypeToBird(bird, gene['name'], kwargs[gene['name']])\n",
    "\n",
    "            (newPhenotype, phenotypes, unknown) = getPhenotypeFromBird(bird, 'Male', 'Wild Type', colorGenes, \n",
    "                                                  [{ 'name': 'Sex-Linked Color', 'allotypes': sexLinkedColorAllotypes, 'sexLinked': True }], \n",
    "                                                  hetSexColors, multiGeneColors)\n",
    "            \n",
    "            with color.hold_trait_notifications():\n",
    "                color.index = color.options.index(newPhenotype)\n",
    "                color.value = newPhenotype\n",
    "            \n",
    "# updateBirdDict = { 'bird': widgets.fixed({}), 'phenotype':color, }\n",
    "# updateBirdDict.update(colors)\n",
    "# widgets.interactive_output(updateBird, updateBirdDict);\n",
    "# display(widgets.VBox([color, widgets.VBox(colorArray), output]))"
   ]
  }
 ],
 "metadata": {
  "kernelspec": {
   "display_name": "Python 3 (ipykernel)",
   "language": "python",
   "name": "python3"
  },
  "language_info": {
   "codemirror_mode": {
    "name": "ipython",
    "version": 3
   },
   "file_extension": ".py",
   "mimetype": "text/x-python",
   "name": "python",
   "nbconvert_exporter": "python",
   "pygments_lexer": "ipython3",
   "version": "3.13.2"
  },
  "widgets": {
   "application/vnd.jupyter.widget-state+json": {
    "state": {
     "05190d13cef54b11b8abb4318a5fb946": {
      "model_module": "@jupyter-widgets/controls",
      "model_module_version": "2.0.0",
      "model_name": "DescriptionStyleModel",
      "state": {
       "description_width": ""
      }
     },
     "09a681ff8c6f4532989ff8032a9e4dce": {
      "model_module": "@jupyter-widgets/base",
      "model_module_version": "2.0.0",
      "model_name": "LayoutModel",
      "state": {}
     },
     "0a3b0d7194254bef8413f194b53a3888": {
      "model_module": "@jupyter-widgets/controls",
      "model_module_version": "2.0.0",
      "model_name": "DropdownModel",
      "state": {
       "_options_labels": [
        "WT/WT",
        "WT/br",
        "br/br"
       ],
       "description": "Bronze:",
       "index": 2,
       "layout": "IPY_MODEL_7674b10e23884ddf873b45643f485948",
       "style": "IPY_MODEL_7839ca3f7e164a659753a052f825d48d"
      }
     },
     "15e894e3a2e240aa9c915d23061dbdb8": {
      "model_module": "@jupyter-widgets/controls",
      "model_module_version": "2.0.0",
      "model_name": "DropdownModel",
      "state": {
       "_options_labels": [
        "WT/WT",
        "WT/ch",
        "ch/ch"
       ],
       "description": "Charcoal:",
       "index": 0,
       "layout": "IPY_MODEL_832de3b9d8524ef59fdd86f5ce0224b7",
       "style": "IPY_MODEL_9d289691ba8c4d81896be6abc5e89a0a"
      }
     },
     "1f064c7a5a2e49af9e1d1f96cc2971d7": {
      "model_module": "@jupyter-widgets/base",
      "model_module_version": "2.0.0",
      "model_name": "LayoutModel",
      "state": {}
     },
     "1f7d2b44bc8d4f98a4d907c14e80b31f": {
      "model_module": "@jupyter-widgets/controls",
      "model_module_version": "2.0.0",
      "model_name": "DropdownModel",
      "state": {
       "_options_labels": [
        "WT/WT",
        "WT/md",
        "md/md"
       ],
       "description": "Midnight:",
       "index": 0,
       "layout": "IPY_MODEL_30f591b6850f4b87a1868d3aa942d0ef",
       "style": "IPY_MODEL_5aa19fe330354ffcab1e6e0b620feca3"
      }
     },
     "272a19f36ea94849955eea2d78fd2e80": {
      "model_module": "@jupyter-widgets/base",
      "model_module_version": "2.0.0",
      "model_name": "LayoutModel",
      "state": {}
     },
     "2877fdd3ff0944d7bcf8e6d19b8f02cc": {
      "model_module": "@jupyter-widgets/controls",
      "model_module_version": "2.0.0",
      "model_name": "DropdownModel",
      "state": {
       "_options_labels": [
        "WT/WT",
        "WT/o",
        "o/o"
       ],
       "description": "Opal:",
       "index": 2,
       "layout": "IPY_MODEL_6e71e3b5fcc843198959fe4e800654a8",
       "style": "IPY_MODEL_e6b79073dea94f4ca88dfc4eb28b9c47"
      }
     },
     "30f591b6850f4b87a1868d3aa942d0ef": {
      "model_module": "@jupyter-widgets/base",
      "model_module_version": "2.0.0",
      "model_name": "LayoutModel",
      "state": {}
     },
     "3e56f331a6354320893b85713e57f74c": {
      "model_module": "@jupyter-widgets/controls",
      "model_module_version": "2.0.0",
      "model_name": "DropdownModel",
      "state": {
       "_options_labels": [
        "WT/WT",
        "WT/st",
        "st/st"
       ],
       "description": "Steel:",
       "index": 0,
       "layout": "IPY_MODEL_bab581c649c443d88b048d2c58c83d2e",
       "style": "IPY_MODEL_c5bdf6f214ec466cae4fec8132beac07"
      }
     },
     "4b94d4668b9c442e87d078dbaaf8d941": {
      "model_module": "@jupyter-widgets/output",
      "model_module_version": "1.0.0",
      "model_name": "OutputModel",
      "state": {
       "layout": "IPY_MODEL_a6f885eb767945a794e8b5c18020b4a9"
      }
     },
     "4d81b2d8d1174b7e87f9d9bc76e02e38": {
      "model_module": "@jupyter-widgets/output",
      "model_module_version": "1.0.0",
      "model_name": "OutputModel",
      "state": {
       "layout": "IPY_MODEL_fba16643217d41bfb17d3212ea1ecd0e",
       "outputs": [
        {
         "name": "stdout",
         "output_type": "stream",
         "text": "Platinum\nPlatinum\n{'Bronze': 'br/br', 'Opal': 'o/o'}\n{'Bronze': 'br/br', 'Opal': 'o/o'}\n"
        }
       ]
      }
     },
     "521a1574f02545d78a44791cb8a454f5": {
      "model_module": "@jupyter-widgets/controls",
      "model_module_version": "2.0.0",
      "model_name": "DropdownModel",
      "state": {
       "_options_labels": [
        "WT/WT",
        "WT/um",
        "um/um"
       ],
       "description": "Ultramarine:",
       "index": 0,
       "layout": "IPY_MODEL_1f064c7a5a2e49af9e1d1f96cc2971d7",
       "style": "IPY_MODEL_e3a4b2e4dfac4db880de851ccc77f215"
      }
     },
     "53c517c5ea9d492abb0e24e6f17b1cad": {
      "model_module": "@jupyter-widgets/controls",
      "model_module_version": "2.0.0",
      "model_name": "DropdownModel",
      "state": {
       "_options_labels": [
        "WT/WT",
        "WT/mo",
        "mo/mo"
       ],
       "description": "Montana:",
       "index": 0,
       "layout": "IPY_MODEL_272a19f36ea94849955eea2d78fd2e80",
       "style": "IPY_MODEL_05190d13cef54b11b8abb4318a5fb946"
      }
     },
     "5aa19fe330354ffcab1e6e0b620feca3": {
      "model_module": "@jupyter-widgets/controls",
      "model_module_version": "2.0.0",
      "model_name": "DescriptionStyleModel",
      "state": {
       "description_width": ""
      }
     },
     "66e949335c524b4ba128531ece47f7e0": {
      "model_module": "@jupyter-widgets/controls",
      "model_module_version": "2.0.0",
      "model_name": "VBoxModel",
      "state": {
       "children": [
        "IPY_MODEL_0a3b0d7194254bef8413f194b53a3888",
        "IPY_MODEL_2877fdd3ff0944d7bcf8e6d19b8f02cc",
        "IPY_MODEL_1f7d2b44bc8d4f98a4d907c14e80b31f",
        "IPY_MODEL_b98023806f754ee6a0d3fbfe5a99bf5d",
        "IPY_MODEL_53c517c5ea9d492abb0e24e6f17b1cad",
        "IPY_MODEL_15e894e3a2e240aa9c915d23061dbdb8",
        "IPY_MODEL_3e56f331a6354320893b85713e57f74c",
        "IPY_MODEL_521a1574f02545d78a44791cb8a454f5",
        "IPY_MODEL_aaaeb9cedd03447497796b22b68940a5"
       ],
       "layout": "IPY_MODEL_b06b2bb4c27e4c519c0dd9948cb4b7aa"
      }
     },
     "6e71e3b5fcc843198959fe4e800654a8": {
      "model_module": "@jupyter-widgets/base",
      "model_module_version": "2.0.0",
      "model_name": "LayoutModel",
      "state": {}
     },
     "7674b10e23884ddf873b45643f485948": {
      "model_module": "@jupyter-widgets/base",
      "model_module_version": "2.0.0",
      "model_name": "LayoutModel",
      "state": {}
     },
     "7839ca3f7e164a659753a052f825d48d": {
      "model_module": "@jupyter-widgets/controls",
      "model_module_version": "2.0.0",
      "model_name": "DescriptionStyleModel",
      "state": {
       "description_width": ""
      }
     },
     "7d52760fd7574cefbc9776259c81970b": {
      "model_module": "@jupyter-widgets/controls",
      "model_module_version": "2.0.0",
      "model_name": "DescriptionStyleModel",
      "state": {
       "description_width": ""
      }
     },
     "7e5b179cce8d4d818553c29b8711a217": {
      "model_module": "@jupyter-widgets/controls",
      "model_module_version": "2.0.0",
      "model_name": "VBoxModel",
      "state": {
       "children": [
        "IPY_MODEL_8c5b7f383292451698af6ed2f32c3c96",
        "IPY_MODEL_66e949335c524b4ba128531ece47f7e0",
        "IPY_MODEL_4d81b2d8d1174b7e87f9d9bc76e02e38"
       ],
       "layout": "IPY_MODEL_9b7322784d1a48e59dd94cfc2cb282ab"
      }
     },
     "8131619e71a94c389610027c6600e1f9": {
      "model_module": "@jupyter-widgets/base",
      "model_module_version": "2.0.0",
      "model_name": "LayoutModel",
      "state": {}
     },
     "832de3b9d8524ef59fdd86f5ce0224b7": {
      "model_module": "@jupyter-widgets/base",
      "model_module_version": "2.0.0",
      "model_name": "LayoutModel",
      "state": {}
     },
     "8c5b7f383292451698af6ed2f32c3c96": {
      "model_module": "@jupyter-widgets/controls",
      "model_module_version": "2.0.0",
      "model_name": "DropdownModel",
      "state": {
       "_options_labels": [
        "Wild Type",
        "American Purple",
        "Jade",
        "Indigo",
        "Hazel",
        "Midway between Violet and Purple",
        "Montana",
        "Bronze",
        "Opal",
        "Mocha",
        "Burnt Umber",
        "Peach",
        "Steel",
        "Charcoal",
        "Ivory",
        "Taupe",
        "Ultramarine",
        "Cameo",
        "Cinnamon",
        "Platinum",
        "Midnight",
        "European Violet",
        "Sonja's Violet"
       ],
       "description": "Color:",
       "index": 19,
       "layout": "IPY_MODEL_ea8c0bcae7b74c8bb2dfb5349444b66d",
       "style": "IPY_MODEL_fd02670ac7a84083a820c1271fd6bf89"
      }
     },
     "9b7322784d1a48e59dd94cfc2cb282ab": {
      "model_module": "@jupyter-widgets/base",
      "model_module_version": "2.0.0",
      "model_name": "LayoutModel",
      "state": {}
     },
     "9d289691ba8c4d81896be6abc5e89a0a": {
      "model_module": "@jupyter-widgets/controls",
      "model_module_version": "2.0.0",
      "model_name": "DescriptionStyleModel",
      "state": {
       "description_width": ""
      }
     },
     "a6f885eb767945a794e8b5c18020b4a9": {
      "model_module": "@jupyter-widgets/base",
      "model_module_version": "2.0.0",
      "model_name": "LayoutModel",
      "state": {}
     },
     "aaaeb9cedd03447497796b22b68940a5": {
      "model_module": "@jupyter-widgets/controls",
      "model_module_version": "2.0.0",
      "model_name": "DropdownModel",
      "state": {
       "_options_labels": [
        "WT/WT",
        "WT/bu",
        "bu/bu"
       ],
       "description": "Burnt Umber:",
       "index": 0,
       "layout": "IPY_MODEL_eac2f66f767a4b16a5ecf4d68e431560",
       "style": "IPY_MODEL_7d52760fd7574cefbc9776259c81970b"
      }
     },
     "b06b2bb4c27e4c519c0dd9948cb4b7aa": {
      "model_module": "@jupyter-widgets/base",
      "model_module_version": "2.0.0",
      "model_name": "LayoutModel",
      "state": {}
     },
     "b98023806f754ee6a0d3fbfe5a99bf5d": {
      "model_module": "@jupyter-widgets/controls",
      "model_module_version": "2.0.0",
      "model_name": "DropdownModel",
      "state": {
       "_options_labels": [
        "WT/WT",
        "WT/j",
        "j/j"
       ],
       "description": "Jade:",
       "index": 0,
       "layout": "IPY_MODEL_8131619e71a94c389610027c6600e1f9",
       "style": "IPY_MODEL_d678f63fc0024d3db95c798eba4a195f"
      }
     },
     "bab581c649c443d88b048d2c58c83d2e": {
      "model_module": "@jupyter-widgets/base",
      "model_module_version": "2.0.0",
      "model_name": "LayoutModel",
      "state": {}
     },
     "c5bdf6f214ec466cae4fec8132beac07": {
      "model_module": "@jupyter-widgets/controls",
      "model_module_version": "2.0.0",
      "model_name": "DescriptionStyleModel",
      "state": {
       "description_width": ""
      }
     },
     "d678f63fc0024d3db95c798eba4a195f": {
      "model_module": "@jupyter-widgets/controls",
      "model_module_version": "2.0.0",
      "model_name": "DescriptionStyleModel",
      "state": {
       "description_width": ""
      }
     },
     "e3a4b2e4dfac4db880de851ccc77f215": {
      "model_module": "@jupyter-widgets/controls",
      "model_module_version": "2.0.0",
      "model_name": "DescriptionStyleModel",
      "state": {
       "description_width": ""
      }
     },
     "e6b79073dea94f4ca88dfc4eb28b9c47": {
      "model_module": "@jupyter-widgets/controls",
      "model_module_version": "2.0.0",
      "model_name": "DescriptionStyleModel",
      "state": {
       "description_width": ""
      }
     },
     "ea8c0bcae7b74c8bb2dfb5349444b66d": {
      "model_module": "@jupyter-widgets/base",
      "model_module_version": "2.0.0",
      "model_name": "LayoutModel",
      "state": {}
     },
     "eac2f66f767a4b16a5ecf4d68e431560": {
      "model_module": "@jupyter-widgets/base",
      "model_module_version": "2.0.0",
      "model_name": "LayoutModel",
      "state": {}
     },
     "ebab557f7b974defb7c2fc819906d72c": {
      "model_module": "@jupyter-widgets/output",
      "model_module_version": "1.0.0",
      "model_name": "OutputModel",
      "state": {
       "layout": "IPY_MODEL_09a681ff8c6f4532989ff8032a9e4dce"
      }
     },
     "fba16643217d41bfb17d3212ea1ecd0e": {
      "model_module": "@jupyter-widgets/base",
      "model_module_version": "2.0.0",
      "model_name": "LayoutModel",
      "state": {}
     },
     "fd02670ac7a84083a820c1271fd6bf89": {
      "model_module": "@jupyter-widgets/controls",
      "model_module_version": "2.0.0",
      "model_name": "DescriptionStyleModel",
      "state": {
       "description_width": ""
      }
     }
    },
    "version_major": 2,
    "version_minor": 0
   }
  }
 },
 "nbformat": 4,
 "nbformat_minor": 5
}
