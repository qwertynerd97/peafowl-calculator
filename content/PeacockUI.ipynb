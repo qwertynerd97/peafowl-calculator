{
 "cells": [
  {
   "cell_type": "markdown",
   "id": "39ab4897-c8b7-4d4a-98c9-7e42af783929",
   "metadata": {},
   "source": [
    "# Peafowl Creator\n",
    "\n",
    "Use this page to create peafowl and visualize the results of breeding pairs, and to see the possible genetic makeup of various peafowl"
   ]
  },
  {
   "cell_type": "code",
   "execution_count": 1,
   "id": "135fd673-3280-4ad3-978c-9d8ccf783c44",
   "metadata": {},
   "outputs": [],
   "source": [
    "# Import the libraries we need to run the code\n",
    "import io\n",
    "import os.path\n",
    "import ipywidgets as widgets\n",
    "from PIL import Image"
   ]
  },
  {
   "cell_type": "code",
   "execution_count": 2,
   "id": "c2167e3f-575c-449f-8b11-e71a2e909345",
   "metadata": {},
   "outputs": [],
   "source": [
    "# Import the converter functions\n",
    "# Putting them in a seperate notebook allows us to add\n",
    "# details and descriptions without affecting the UI\n",
    "%run ./converters.ipynb"
   ]
  },
  {
   "cell_type": "code",
   "execution_count": 3,
   "id": "fba8048e-ae78-48aa-a633-4d2825c8e6d5",
   "metadata": {},
   "outputs": [],
   "source": [
    "# Import the widget functions\n",
    "%run ./widgets.ipynb"
   ]
  },
  {
   "cell_type": "markdown",
   "id": "924fa4ab-80c8-4d48-93f0-5e5803c197f9",
   "metadata": {},
   "source": [
    "Use the following widget to add unique features to a peafowl, and select the peafowl's sex.  Any features that are not added to the peafowl will be assumed to be wild type"
   ]
  },
  {
   "cell_type": "code",
   "execution_count": 4,
   "id": "39b19dbd-9492-47e8-a8fc-d3ca91226699",
   "metadata": {},
   "outputs": [],
   "source": [
    "# Define color genes\n",
    "colorGenes = [\n",
    "    # Note: the \"default\" gene aka Wild Type is not included because it is a special\n",
    "    # case that can apply to alleles of any gene\n",
    "    { 'notation': 'br',      'name': 'Bronze' },\n",
    "    { 'notation': 'o',       'name': 'Opal' },\n",
    "    { 'notation': 'md',      'name': 'Midnight' },\n",
    "    { 'notation': 'j',       'name': 'Jade' },\n",
    "    { 'notation': 'mo',      'name': 'Montana' },\n",
    "    { 'notation': 'ch',      'name': 'Charcoal' },\n",
    "    { 'notation': 'st',      'name': 'Steel' },\n",
    "    { 'notation': 'um',      'name': 'Ultramarine' },\n",
    "    { 'notation': 'bu',      'name': 'Burnt Umber' }\n",
    "]\n",
    "\n",
    "sexLinkedColorAllotypes = [\n",
    "    { 'notation': 'Z(c)',    'name': 'Cameo' },\n",
    "    { 'notation': 'Z(pl)',   'name': 'American Purple' },\n",
    "    { 'notation': 'Z(va)',   'name': 'Sonja\\'s Violet' },\n",
    "    { 'notation': 'Z(ve)',   'name': 'European Violet' },\n",
    "    # Note: even though peach is actually 2 genes, we are treating\n",
    "    # it as one for the sake of this code, and dealing with het Peach\n",
    "    # as a special phenotype\n",
    "    { 'notation': 'Z(pl:c)', 'name': 'Peach' }\n",
    "]\n",
    "\n",
    "# Define what genes combinations form special colors\n",
    "multiGeneColors = [\n",
    "    { 'name': 'Platinum',      'genes': ['br', 'o']}\n",
    "]\n",
    "\n",
    "sexAndAutosomalComboColors = [\n",
    "    { 'name': 'Taupe',         'autosomalGene': 'o',  'sexGene': 'Z(pl)' },\n",
    "    { 'name': 'Mocha',         'autosomalGene': 'md', 'sexGene': 'Z(pl)' },\n",
    "    { 'name': 'Ivory',         'autosomalGene': 'o',  'sexGene': 'Z(c)' },\n",
    "    { 'name': 'Indigo',        'autosomalGene': 'br', 'sexGene': 'Z(pl)' },\n",
    "    { 'name': 'Hazel',         'autosomalGene': 'br', 'sexGene': 'Z(pl)' }\n",
    "]\n",
    "\n",
    "hetSexColors = [\n",
    "    { 'name': 'Midway between Violet and Purple', 'alleles': ['Z(pl)', 'Z(ve)'] }\n",
    "]\n",
    "\n",
    "# Define pattern genes\n",
    "patternGenes = [\n",
    "    { 'notation': 'bs',      'name': 'Blackshoulder' }\n",
    "]\n",
    "\n",
    "# Define leucistic genes\n",
    "leucisticGenes = [\n",
    "    { 'notation': 'p',       'name': 'Pied' },\n",
    "    { 'notation': 'WE',       'name': 'White Eye' }\n",
    "]\n",
    "\n",
    "piedAllotypes = [\n",
    "    { 'notation': 'p',       'name': 'Dark Pied' },\n",
    "    { 'notation': 'W',       'name': 'White' }\n",
    "]\n",
    "\n",
    "# Pied special cases\n",
    "hetPied = [\n",
    "    { 'name': 'Pied', 'alleles': ['W', 'p'] }\n",
    "]\n",
    "\n",
    "whiteEyeAllotypes = [\n",
    "    { 'notation': 'WE',      'name': 'White Eye' },\n",
    "    { 'notation': 'sWE',     'name': 'Silver White Eye' }\n",
    "]"
   ]
  },
  {
   "cell_type": "markdown",
   "id": "dda1f870-c74f-4000-be54-ab1b30dee058",
   "metadata": {},
   "source": [
    "If you want to look at more complex pairings, including outcrosses, you can also edit the bird's geneotype below. Changes to the genotype will also change the phenotype inputs, so that both types of inputs show the same bird."
   ]
  },
  {
   "cell_type": "code",
   "execution_count": 5,
   "id": "8f43d8c5-4777-4b68-9180-8b50cba8b6a0",
   "metadata": {},
   "outputs": [
    {
     "data": {
      "application/vnd.jupyter.widget-view+json": {
       "model_id": "2411688eb28746e79a164bfa0e679ed7",
       "version_major": 2,
       "version_minor": 0
      },
      "text/plain": [
       "Label(value='Enter phsyical traits for a breeding pair of peacocks. Note: Traits with multiple genotypes will …"
      ]
     },
     "metadata": {},
     "output_type": "display_data"
    },
    {
     "data": {
      "application/vnd.jupyter.widget-view+json": {
       "model_id": "ebf8888e0bfd42c082980492885d31cb",
       "version_major": 2,
       "version_minor": 0
      },
      "text/plain": [
       "HBox(children=(VBox(children=(Label(value='Female Peacock'), Dropdown(description='Color:', options=('Wild Typ…"
      ]
     },
     "metadata": {},
     "output_type": "display_data"
    },
    {
     "data": {
      "application/vnd.jupyter.widget-view+json": {
       "model_id": "d64d8b431d784b33ae870b6801da1b2f",
       "version_major": 2,
       "version_minor": 0
      },
      "text/plain": [
       "Label(value='Or edit the genotype of the birds directly:')"
      ]
     },
     "metadata": {},
     "output_type": "display_data"
    },
    {
     "data": {
      "application/vnd.jupyter.widget-view+json": {
       "model_id": "920867573ff647d59fd3ba4e7d4d3da0",
       "version_major": 2,
       "version_minor": 0
      },
      "text/plain": [
       "HBox(children=(VBox(children=(Label(value='Female Peacock'), Dropdown(description='Bronze:', options=('WT/WT',…"
      ]
     },
     "metadata": {},
     "output_type": "display_data"
    },
    {
     "data": {
      "application/vnd.jupyter.widget-view+json": {
       "model_id": "50121d06f048430da00d666d80e792ca",
       "version_major": 2,
       "version_minor": 0
      },
      "text/plain": [
       "Output()"
      ]
     },
     "metadata": {},
     "output_type": "display_data"
    },
    {
     "data": {
      "application/vnd.jupyter.widget-view+json": {
       "model_id": "f8dfd0ac5b434bcb9476eb132c72eb64",
       "version_major": 2,
       "version_minor": 0
      },
      "text/plain": [
       "HBox(children=(Image(value=b'\\x89PNG\\r\\n\\x1a\\n\\x00\\x00\\x00\\rIHDR\\x00\\x00\\x02X\\x00\\x00\\x02X\\x08\\x06\\x00\\x00\\x00…"
      ]
     },
     "metadata": {},
     "output_type": "display_data"
    }
   ],
   "source": [
    "# This creates the UI using code created in the other notebooks\n",
    "\n",
    "# Create the peafowl images, but do not display them yet\n",
    "maleImage = widgets.Image(\n",
    "    value=generatePeafowlImage(\"Male\", \"Unknown\").getvalue(),\n",
    "    format='png',\n",
    "    width=300,\n",
    "    height=300,\n",
    ")\n",
    "femaleImage = widgets.Image(\n",
    "    value=generatePeafowlImage(\"Female\", \"Unknown\").getvalue(),\n",
    "    format='png',\n",
    "    width=300,\n",
    "    height=300,\n",
    ")\n",
    "\n",
    "# Display the phenotype inputs\n",
    "display(widgets.Label(value=\"Enter phsyical traits for a breeding pair of peacocks. Note: Traits with multiple genotypes will be assumed to be homozygous ie breed true\"))\n",
    "(maleWidgetsBox, maleWidgets) = createPeacockPhenotypeWidgets(\"Male Peacock\")\n",
    "(femaleWidgetsBox, femaleWidgets) = createPeacockPhenotypeWidgets(\"Female Peacock\")\n",
    "display(widgets.HBox([femaleWidgetsBox, maleWidgetsBox]))\n",
    "\n",
    "# Display the genotype inputs\n",
    "display(widgets.Label(value=\"Or edit the genotype of the birds directly:\"))\n",
    "(maleWidgets, maleGenotypeData) = createPeacockGenotypeWidgets(\"Male Peacock\", 'Male', maleWidgets)\n",
    "(femaleWidgets, femaleGenotypeData) = createPeacockGenotypeWidgets(\"Female Peacock\", 'Female', femaleWidgets)\n",
    "display(widgets.HBox([femaleWidgets, maleWidgets]))\n",
    "display(output)\n",
    "\n",
    "# Display the images last\n",
    "display(widgets.HBox([femaleImage, maleImage]))"
   ]
  },
  {
   "cell_type": "code",
   "execution_count": null,
   "id": "986100c4-1bdf-4e48-b806-32fbc29e23bb",
   "metadata": {},
   "outputs": [],
   "source": []
  }
 ],
 "metadata": {
  "kernelspec": {
   "display_name": "Python 3 (ipykernel)",
   "language": "python",
   "name": "python3"
  },
  "language_info": {
   "codemirror_mode": {
    "name": "ipython",
    "version": 3
   },
   "file_extension": ".py",
   "mimetype": "text/x-python",
   "name": "python",
   "nbconvert_exporter": "python",
   "pygments_lexer": "ipython3",
   "version": "3.13.2"
  },
  "widgets": {
   "application/vnd.jupyter.widget-state+json": {
    "state": {
     "00a0dbf5affa408a8495dc5a2f3171ec": {
      "model_module": "@jupyter-widgets/base",
      "model_module_version": "2.0.0",
      "model_name": "LayoutModel",
      "state": {}
     },
     "03929e751bc14f19a17f818d864ee3d2": {
      "model_module": "@jupyter-widgets/controls",
      "model_module_version": "2.0.0",
      "model_name": "LabelModel",
      "state": {
       "layout": "IPY_MODEL_796eee6f44c546508404942d52dc72ce",
       "style": "IPY_MODEL_5089678f86234a72b5190445ec6d8092",
       "value": "Male Peacock"
      }
     },
     "073b6f127b854d7eb9feb14a959af0da": {
      "model_module": "@jupyter-widgets/controls",
      "model_module_version": "2.0.0",
      "model_name": "DescriptionStyleModel",
      "state": {
       "description_width": ""
      }
     },
     "086ecc41df9948c98ade01896e0295f1": {
      "model_module": "@jupyter-widgets/controls",
      "model_module_version": "2.0.0",
      "model_name": "VBoxModel",
      "state": {
       "children": [
        "IPY_MODEL_c0b564f0717942538a8b1592558a58bb",
        "IPY_MODEL_c0c788a1d5b24d17a791d91bed1e4109",
        "IPY_MODEL_e650168e56b2413689027be4ed8c2d85",
        "IPY_MODEL_e473d197b9e4454e87fdfc3fc39cf8ee"
       ],
       "layout": "IPY_MODEL_959a380d0bd8462594c545410d5cc1e6"
      }
     },
     "0a8d3a3c1a1e457083e4700c6119df27": {
      "model_module": "@jupyter-widgets/controls",
      "model_module_version": "2.0.0",
      "model_name": "DescriptionStyleModel",
      "state": {
       "description_width": ""
      }
     },
     "0af1772bfb834efda0d0c1bdbfa75fc5": {
      "model_module": "@jupyter-widgets/controls",
      "model_module_version": "2.0.0",
      "model_name": "DescriptionStyleModel",
      "state": {
       "description_width": ""
      }
     },
     "0b972ac72ab149e2a48427a167922163": {
      "model_module": "@jupyter-widgets/controls",
      "model_module_version": "2.0.0",
      "model_name": "LabelStyleModel",
      "state": {
       "description_width": "",
       "font_family": null,
       "font_size": null,
       "font_style": null,
       "font_variant": null,
       "font_weight": null,
       "text_color": null,
       "text_decoration": null
      }
     },
     "12a4e20b4458478c8d10bfdcb55cd052": {
      "model_module": "@jupyter-widgets/controls",
      "model_module_version": "2.0.0",
      "model_name": "DropdownModel",
      "state": {
       "_options_labels": [
        "Barred Wing Wild Type",
        "Blackshoulder"
       ],
       "description": "Pattern:",
       "index": 0,
       "layout": "IPY_MODEL_ab79dac53e3f4635bf1d47a9daa86258",
       "style": "IPY_MODEL_4132e7335ee54766becb1873978acf09"
      }
     },
     "1a069a94afd94194877e32f8546ea14c": {
      "model_module": "@jupyter-widgets/base",
      "model_module_version": "2.0.0",
      "model_name": "LayoutModel",
      "state": {}
     },
     "1b403dc1e2e64d3993b1f5db67cdbfb7": {
      "model_module": "@jupyter-widgets/base",
      "model_module_version": "2.0.0",
      "model_name": "LayoutModel",
      "state": {}
     },
     "2411688eb28746e79a164bfa0e679ed7": {
      "model_module": "@jupyter-widgets/controls",
      "model_module_version": "2.0.0",
      "model_name": "LabelModel",
      "state": {
       "layout": "IPY_MODEL_d0d64937dc0245c7851134f80aeec360",
       "style": "IPY_MODEL_58363eb9986a4be0981f33f8fb898388",
       "value": "Enter phsyical traits for a breeding pair of peacocks. Note: Traits with multiple genotypes will be assumed to be homozygous ie breed true"
      }
     },
     "2530ad857ab9465da92445ec782acbbc": {
      "model_module": "@jupyter-widgets/controls",
      "model_module_version": "2.0.0",
      "model_name": "DescriptionStyleModel",
      "state": {
       "description_width": ""
      }
     },
     "259db9eda8b34f27884ae8aad8bd5f11": {
      "model_module": "@jupyter-widgets/controls",
      "model_module_version": "2.0.0",
      "model_name": "DropdownModel",
      "state": {
       "_options_labels": [
        "WT/WT",
        "WT/o",
        "o/o"
       ],
       "description": "Opal:",
       "index": 0,
       "layout": "IPY_MODEL_ee3f1b30ed2e4a7e829b8c3ddceb5597",
       "style": "IPY_MODEL_b2894ce5c48a4d199a6e0b33b1b0b14a"
      }
     },
     "26ae04f325464e9f9865cc1fd04c445a": {
      "model_module": "@jupyter-widgets/controls",
      "model_module_version": "2.0.0",
      "model_name": "DescriptionStyleModel",
      "state": {
       "description_width": ""
      }
     },
     "281819b725b74bae89ba809f73defcf5": {
      "model_module": "@jupyter-widgets/controls",
      "model_module_version": "2.0.0",
      "model_name": "DropdownModel",
      "state": {
       "_options_labels": [
        "Wild Type",
        "Bronze",
        "Opal",
        "Midnight",
        "Jade",
        "Montana",
        "Charcoal",
        "Steel",
        "Ultramarine",
        "Burnt Umber",
        "Cameo",
        "American Purple",
        "Sonja's Violet",
        "European Violet",
        "Peach",
        "Platinum",
        "Taupe",
        "Mocha",
        "Ivory",
        "Indigo",
        "Hazel",
        "Midway between Violet and Purple"
       ],
       "description": "Color:",
       "index": 0,
       "layout": "IPY_MODEL_4d91d36f58e846a5904c4b73c29fc0eb",
       "style": "IPY_MODEL_c9a2d39292f0465490ce9d24740e5d64"
      }
     },
     "2a7aca9cd4084684a511b2134eeab22e": {
      "model_module": "@jupyter-widgets/controls",
      "model_module_version": "2.0.0",
      "model_name": "DescriptionStyleModel",
      "state": {
       "description_width": ""
      }
     },
     "2ae536cce76d44ca907e1bcd53c94447": {
      "model_module": "@jupyter-widgets/controls",
      "model_module_version": "2.0.0",
      "model_name": "LabelStyleModel",
      "state": {
       "description_width": "",
       "font_family": null,
       "font_size": null,
       "font_style": null,
       "font_variant": null,
       "font_weight": null,
       "text_color": null,
       "text_decoration": null
      }
     },
     "2b9736f4c92c4da388fa40441723c128": {
      "model_module": "@jupyter-widgets/controls",
      "model_module_version": "2.0.0",
      "model_name": "DescriptionStyleModel",
      "state": {
       "description_width": ""
      }
     },
     "30d7b6ba46ee4b73b19e0e8f3e502ae0": {
      "model_module": "@jupyter-widgets/controls",
      "model_module_version": "2.0.0",
      "model_name": "DropdownModel",
      "state": {
       "_options_labels": [
        "WT/WT",
        "WT/ch",
        "ch/ch"
       ],
       "description": "Charcoal:",
       "index": 0,
       "layout": "IPY_MODEL_d9ba4d9c488449c792e78b0b4c9df957",
       "style": "IPY_MODEL_a88eb2b6b9cb44cdb3d803320d11a639"
      }
     },
     "31562f1780b34d82b132c5f15212f607": {
      "model_module": "@jupyter-widgets/controls",
      "model_module_version": "2.0.0",
      "model_name": "LabelModel",
      "state": {
       "layout": "IPY_MODEL_cf08e44c5eea49d78dcb9f7c0b5199a7",
       "style": "IPY_MODEL_3e5337d489f24ecb938cdc749e29a644",
       "value": "Female Peacock"
      }
     },
     "3547fc61c4324e97bcfdddd7f707c7be": {
      "model_module": "@jupyter-widgets/controls",
      "model_module_version": "2.0.0",
      "model_name": "DescriptionStyleModel",
      "state": {
       "description_width": ""
      }
     },
     "3718c212c921469a93414e7f509b39cf": {
      "model_module": "@jupyter-widgets/base",
      "model_module_version": "2.0.0",
      "model_name": "LayoutModel",
      "state": {}
     },
     "3e5337d489f24ecb938cdc749e29a644": {
      "model_module": "@jupyter-widgets/controls",
      "model_module_version": "2.0.0",
      "model_name": "LabelStyleModel",
      "state": {
       "description_width": "",
       "font_family": null,
       "font_size": null,
       "font_style": null,
       "font_variant": null,
       "font_weight": null,
       "text_color": null,
       "text_decoration": null
      }
     },
     "4132e7335ee54766becb1873978acf09": {
      "model_module": "@jupyter-widgets/controls",
      "model_module_version": "2.0.0",
      "model_name": "DescriptionStyleModel",
      "state": {
       "description_width": ""
      }
     },
     "42d75e76917946368bd13928e4772fbc": {
      "model_module": "@jupyter-widgets/controls",
      "model_module_version": "2.0.0",
      "model_name": "DropdownModel",
      "state": {
       "_options_labels": [
        "WT/WT",
        "WT/st",
        "st/st"
       ],
       "description": "Steel:",
       "index": 0,
       "layout": "IPY_MODEL_e3190ffff0134535bfa38964d5c72822",
       "style": "IPY_MODEL_2a7aca9cd4084684a511b2134eeab22e"
      }
     },
     "4586d3c3cb184e6bb1e9f1709e5b3e2c": {
      "model_module": "@jupyter-widgets/controls",
      "model_module_version": "2.0.0",
      "model_name": "DropdownModel",
      "state": {
       "_options_labels": [
        "WT/WT",
        "WT/br",
        "br/br"
       ],
       "description": "Bronze:",
       "index": 0,
       "layout": "IPY_MODEL_c3e7e019b79440ca8a86cf742a57143e",
       "style": "IPY_MODEL_d12b5290c5fb42fbb1f0a0e42a2979d9"
      }
     },
     "4ab1c51ecfd84376a0f80b15e3eaead8": {
      "model_module": "@jupyter-widgets/controls",
      "model_module_version": "2.0.0",
      "model_name": "DescriptionStyleModel",
      "state": {
       "description_width": ""
      }
     },
     "4d91d36f58e846a5904c4b73c29fc0eb": {
      "model_module": "@jupyter-widgets/base",
      "model_module_version": "2.0.0",
      "model_name": "LayoutModel",
      "state": {}
     },
     "50121d06f048430da00d666d80e792ca": {
      "model_module": "@jupyter-widgets/output",
      "model_module_version": "1.0.0",
      "model_name": "OutputModel",
      "state": {
       "layout": "IPY_MODEL_7ac902d338fb4fef8f9d16e36ce4a122"
      }
     },
     "5089678f86234a72b5190445ec6d8092": {
      "model_module": "@jupyter-widgets/controls",
      "model_module_version": "2.0.0",
      "model_name": "LabelStyleModel",
      "state": {
       "description_width": "",
       "font_family": null,
       "font_size": null,
       "font_style": null,
       "font_variant": null,
       "font_weight": null,
       "text_color": null,
       "text_decoration": null
      }
     },
     "53afc0cf002b407bad98dffbc6b09fd6": {
      "model_module": "@jupyter-widgets/base",
      "model_module_version": "2.0.0",
      "model_name": "LayoutModel",
      "state": {}
     },
     "58363eb9986a4be0981f33f8fb898388": {
      "model_module": "@jupyter-widgets/controls",
      "model_module_version": "2.0.0",
      "model_name": "LabelStyleModel",
      "state": {
       "description_width": "",
       "font_family": null,
       "font_size": null,
       "font_style": null,
       "font_variant": null,
       "font_weight": null,
       "text_color": null,
       "text_decoration": null
      }
     },
     "5afe981186dc4bd3983d005319bd2d6c": {
      "model_module": "@jupyter-widgets/base",
      "model_module_version": "2.0.0",
      "model_name": "LayoutModel",
      "state": {}
     },
     "5d4aeb40186a4dc584cf1dc98c70e80e": {
      "model_module": "@jupyter-widgets/controls",
      "model_module_version": "2.0.0",
      "model_name": "VBoxModel",
      "state": {
       "children": [
        "IPY_MODEL_d9e3b79b9325414c814f82841ef8b230",
        "IPY_MODEL_4586d3c3cb184e6bb1e9f1709e5b3e2c",
        "IPY_MODEL_259db9eda8b34f27884ae8aad8bd5f11",
        "IPY_MODEL_a6400c9e1bf24546bb62540247656f21",
        "IPY_MODEL_8326bf380cc2401882abb9e196626f09",
        "IPY_MODEL_83a0fabdd786460dbeb5b6a879ee74b8",
        "IPY_MODEL_86e48397c1df489994eecbe1154d90da",
        "IPY_MODEL_42d75e76917946368bd13928e4772fbc",
        "IPY_MODEL_a08132f12dc14ccda9902c5882f63bdc",
        "IPY_MODEL_c34838ce41da4d8cac8f441ee5172494",
        "IPY_MODEL_f229e4825d254f568d3f04585c4ed9b3"
       ],
       "layout": "IPY_MODEL_96bef12e78b74e028512d60af89dae05"
      }
     },
     "5e3afe2fa6ab4f4a865485773db6b5d0": {
      "model_module": "@jupyter-widgets/base",
      "model_module_version": "2.0.0",
      "model_name": "LayoutModel",
      "state": {}
     },
     "5fb4e6d74b2e49e0911b03b1e837732b": {
      "model_module": "@jupyter-widgets/controls",
      "model_module_version": "2.0.0",
      "model_name": "DescriptionStyleModel",
      "state": {
       "description_width": ""
      }
     },
     "601fbba1a0804707ad49da62df516684": {
      "model_module": "@jupyter-widgets/base",
      "model_module_version": "2.0.0",
      "model_name": "LayoutModel",
      "state": {}
     },
     "623a9955216c467c84240c68006ecccc": {
      "model_module": "@jupyter-widgets/controls",
      "model_module_version": "2.0.0",
      "model_name": "DescriptionStyleModel",
      "state": {
       "description_width": ""
      }
     },
     "6c992120c5674efc960d6494bb25cd73": {
      "model_module": "@jupyter-widgets/base",
      "model_module_version": "2.0.0",
      "model_name": "LayoutModel",
      "state": {}
     },
     "6e1345f5789f468db56d5ff944b1499c": {
      "model_module": "@jupyter-widgets/base",
      "model_module_version": "2.0.0",
      "model_name": "LayoutModel",
      "state": {}
     },
     "745b4ec7296d4a2096129135fa5db4b1": {
      "model_module": "@jupyter-widgets/controls",
      "model_module_version": "2.0.0",
      "model_name": "LabelStyleModel",
      "state": {
       "description_width": "",
       "font_family": null,
       "font_size": null,
       "font_style": null,
       "font_variant": null,
       "font_weight": null,
       "text_color": null,
       "text_decoration": null
      }
     },
     "74b7b5f7cf64479fa78c896269efe58d": {
      "model_module": "@jupyter-widgets/controls",
      "model_module_version": "2.0.0",
      "model_name": "VBoxModel",
      "state": {
       "children": [
        "IPY_MODEL_03929e751bc14f19a17f818d864ee3d2",
        "IPY_MODEL_281819b725b74bae89ba809f73defcf5",
        "IPY_MODEL_12a4e20b4458478c8d10bfdcb55cd052",
        "IPY_MODEL_9bed8461c6624da585467bd814f2ca0a"
       ],
       "layout": "IPY_MODEL_b43943f96ca74f679d9dbea555646412"
      }
     },
     "779c37422347413f991ff9bec20fc855": {
      "model_module": "@jupyter-widgets/base",
      "model_module_version": "2.0.0",
      "model_name": "LayoutModel",
      "state": {}
     },
     "796eee6f44c546508404942d52dc72ce": {
      "model_module": "@jupyter-widgets/base",
      "model_module_version": "2.0.0",
      "model_name": "LayoutModel",
      "state": {}
     },
     "7ac902d338fb4fef8f9d16e36ce4a122": {
      "model_module": "@jupyter-widgets/base",
      "model_module_version": "2.0.0",
      "model_name": "LayoutModel",
      "state": {}
     },
     "7b584f919abb44489fd219eb7a281709": {
      "model_module": "@jupyter-widgets/base",
      "model_module_version": "2.0.0",
      "model_name": "LayoutModel",
      "state": {}
     },
     "7e4125cd202a4bb88d1dd86e52609788": {
      "model_module": "@jupyter-widgets/base",
      "model_module_version": "2.0.0",
      "model_name": "LayoutModel",
      "state": {}
     },
     "800adbb8d2df4094883e920c7c67bf93": {
      "model_module": "@jupyter-widgets/controls",
      "model_module_version": "2.0.0",
      "model_name": "DescriptionStyleModel",
      "state": {
       "description_width": ""
      }
     },
     "8326bf380cc2401882abb9e196626f09": {
      "model_module": "@jupyter-widgets/controls",
      "model_module_version": "2.0.0",
      "model_name": "DropdownModel",
      "state": {
       "_options_labels": [
        "WT/WT",
        "WT/j",
        "j/j"
       ],
       "description": "Jade:",
       "index": 0,
       "layout": "IPY_MODEL_6c992120c5674efc960d6494bb25cd73",
       "style": "IPY_MODEL_3547fc61c4324e97bcfdddd7f707c7be"
      }
     },
     "83a0fabdd786460dbeb5b6a879ee74b8": {
      "model_module": "@jupyter-widgets/controls",
      "model_module_version": "2.0.0",
      "model_name": "DropdownModel",
      "state": {
       "_options_labels": [
        "WT/WT",
        "WT/mo",
        "mo/mo"
       ],
       "description": "Montana:",
       "index": 0,
       "layout": "IPY_MODEL_53afc0cf002b407bad98dffbc6b09fd6",
       "style": "IPY_MODEL_bababdbf78524d2284cdd686395a013f"
      }
     },
     "845e16c4f79d4ccfb9b5527a03d7680c": {
      "model_module": "@jupyter-widgets/controls",
      "model_module_version": "2.0.0",
      "model_name": "DescriptionStyleModel",
      "state": {
       "description_width": ""
      }
     },
     "86685f85147e468595b8738421c3e678": {
      "model_module": "@jupyter-widgets/controls",
      "model_module_version": "2.0.0",
      "model_name": "DropdownModel",
      "state": {
       "_options_labels": [
        "Z(WT)/w",
        "Z(c)/w",
        "Z(pl)/w",
        "Z(va)/w",
        "Z(ve)/w",
        "Z(pl:c)/w"
       ],
       "description": "Sex-Linked Color:",
       "index": 2,
       "layout": "IPY_MODEL_3718c212c921469a93414e7f509b39cf",
       "style": "IPY_MODEL_f1747ecd26d44132b2986215bcc2b168"
      }
     },
     "86e48397c1df489994eecbe1154d90da": {
      "model_module": "@jupyter-widgets/controls",
      "model_module_version": "2.0.0",
      "model_name": "DropdownModel",
      "state": {
       "_options_labels": [
        "WT/WT",
        "WT/ch",
        "ch/ch"
       ],
       "description": "Charcoal:",
       "index": 0,
       "layout": "IPY_MODEL_a809fa81ef6a4559b5e16b9ab3d20baa",
       "style": "IPY_MODEL_623a9955216c467c84240c68006ecccc"
      }
     },
     "920867573ff647d59fd3ba4e7d4d3da0": {
      "model_module": "@jupyter-widgets/controls",
      "model_module_version": "2.0.0",
      "model_name": "HBoxModel",
      "state": {
       "children": [
        "IPY_MODEL_e0726b8e5ee0455f84bc491c4aed9188",
        "IPY_MODEL_5d4aeb40186a4dc584cf1dc98c70e80e"
       ],
       "layout": "IPY_MODEL_ca8f3828e0d745ad947784aa70bf99ed"
      }
     },
     "959a380d0bd8462594c545410d5cc1e6": {
      "model_module": "@jupyter-widgets/base",
      "model_module_version": "2.0.0",
      "model_name": "LayoutModel",
      "state": {}
     },
     "96550b8cf200460e885c7ae89302885a": {
      "model_module": "@jupyter-widgets/controls",
      "model_module_version": "2.0.0",
      "model_name": "DropdownModel",
      "state": {
       "_options_labels": [
        "WT/WT",
        "WT/o",
        "o/o"
       ],
       "description": "Opal:",
       "index": 0,
       "layout": "IPY_MODEL_d2d7c22dc10449aba69b9b722f17c61e",
       "style": "IPY_MODEL_845e16c4f79d4ccfb9b5527a03d7680c"
      }
     },
     "96bef12e78b74e028512d60af89dae05": {
      "model_module": "@jupyter-widgets/base",
      "model_module_version": "2.0.0",
      "model_name": "LayoutModel",
      "state": {}
     },
     "99a6338ea2d24679972a983c2614086b": {
      "model_module": "@jupyter-widgets/controls",
      "model_module_version": "2.0.0",
      "model_name": "DescriptionStyleModel",
      "state": {
       "description_width": ""
      }
     },
     "99f97e7bc3fc47cd948ea3f0204e72b4": {
      "model_module": "@jupyter-widgets/controls",
      "model_module_version": "2.0.0",
      "model_name": "DropdownModel",
      "state": {
       "_options_labels": [
        "WT/WT",
        "WT/st",
        "st/st"
       ],
       "description": "Steel:",
       "index": 0,
       "layout": "IPY_MODEL_f0df3b502af84f34a80d25a6dda86a57",
       "style": "IPY_MODEL_2530ad857ab9465da92445ec782acbbc"
      }
     },
     "9bed8461c6624da585467bd814f2ca0a": {
      "model_module": "@jupyter-widgets/controls",
      "model_module_version": "2.0.0",
      "model_name": "DropdownModel",
      "state": {
       "_options_labels": [
        "Non-Leucistic Wild Type",
        "Dark Pied",
        "White",
        "White Eye",
        "Silver White Eye",
        "Pied"
       ],
       "description": "Leucistic:",
       "index": 0,
       "layout": "IPY_MODEL_1b403dc1e2e64d3993b1f5db67cdbfb7",
       "style": "IPY_MODEL_800adbb8d2df4094883e920c7c67bf93"
      }
     },
     "a08132f12dc14ccda9902c5882f63bdc": {
      "model_module": "@jupyter-widgets/controls",
      "model_module_version": "2.0.0",
      "model_name": "DropdownModel",
      "state": {
       "_options_labels": [
        "WT/WT",
        "WT/um",
        "um/um"
       ],
       "description": "Ultramarine:",
       "index": 0,
       "layout": "IPY_MODEL_fc8b08e456a3431b97df3c9fe632cf3e",
       "style": "IPY_MODEL_dd7687741e5b4955a614e64466864fac"
      }
     },
     "a5f3207ce9ef478aa2374c8ce71ca144": {
      "buffers": [
       {
        "data": "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",
        "encoding": "base64",
        "path": [
         "value"
        ]
       }
      ],
      "model_module": "@jupyter-widgets/controls",
      "model_module_version": "2.0.0",
      "model_name": "ImageModel",
      "state": {
       "height": "300",
       "layout": "IPY_MODEL_5afe981186dc4bd3983d005319bd2d6c",
       "width": "300"
      }
     },
     "a6400c9e1bf24546bb62540247656f21": {
      "model_module": "@jupyter-widgets/controls",
      "model_module_version": "2.0.0",
      "model_name": "DropdownModel",
      "state": {
       "_options_labels": [
        "WT/WT",
        "WT/md",
        "md/md"
       ],
       "description": "Midnight:",
       "index": 0,
       "layout": "IPY_MODEL_779c37422347413f991ff9bec20fc855",
       "style": "IPY_MODEL_99a6338ea2d24679972a983c2614086b"
      }
     },
     "a809fa81ef6a4559b5e16b9ab3d20baa": {
      "model_module": "@jupyter-widgets/base",
      "model_module_version": "2.0.0",
      "model_name": "LayoutModel",
      "state": {}
     },
     "a88eb2b6b9cb44cdb3d803320d11a639": {
      "model_module": "@jupyter-widgets/controls",
      "model_module_version": "2.0.0",
      "model_name": "DescriptionStyleModel",
      "state": {
       "description_width": ""
      }
     },
     "aa11030dbf68472094cc3f95e8002a43": {
      "model_module": "@jupyter-widgets/controls",
      "model_module_version": "2.0.0",
      "model_name": "DropdownModel",
      "state": {
       "_options_labels": [
        "WT/WT",
        "WT/um",
        "um/um"
       ],
       "description": "Ultramarine:",
       "index": 0,
       "layout": "IPY_MODEL_d4b16f55a64845eea45f6986be4c2524",
       "style": "IPY_MODEL_0af1772bfb834efda0d0c1bdbfa75fc5"
      }
     },
     "ab79dac53e3f4635bf1d47a9daa86258": {
      "model_module": "@jupyter-widgets/base",
      "model_module_version": "2.0.0",
      "model_name": "LayoutModel",
      "state": {}
     },
     "b16733a073c549fcbc01a79016d95d2b": {
      "model_module": "@jupyter-widgets/controls",
      "model_module_version": "2.0.0",
      "model_name": "DescriptionStyleModel",
      "state": {
       "description_width": ""
      }
     },
     "b2894ce5c48a4d199a6e0b33b1b0b14a": {
      "model_module": "@jupyter-widgets/controls",
      "model_module_version": "2.0.0",
      "model_name": "DescriptionStyleModel",
      "state": {
       "description_width": ""
      }
     },
     "b43943f96ca74f679d9dbea555646412": {
      "model_module": "@jupyter-widgets/base",
      "model_module_version": "2.0.0",
      "model_name": "LayoutModel",
      "state": {}
     },
     "bababdbf78524d2284cdd686395a013f": {
      "model_module": "@jupyter-widgets/controls",
      "model_module_version": "2.0.0",
      "model_name": "DescriptionStyleModel",
      "state": {
       "description_width": ""
      }
     },
     "c0b564f0717942538a8b1592558a58bb": {
      "model_module": "@jupyter-widgets/controls",
      "model_module_version": "2.0.0",
      "model_name": "LabelModel",
      "state": {
       "layout": "IPY_MODEL_e41881375fa3477bab990b7c8f5e1ed4",
       "style": "IPY_MODEL_0b972ac72ab149e2a48427a167922163",
       "value": "Female Peacock"
      }
     },
     "c0c788a1d5b24d17a791d91bed1e4109": {
      "model_module": "@jupyter-widgets/controls",
      "model_module_version": "2.0.0",
      "model_name": "DropdownModel",
      "state": {
       "_options_labels": [
        "Wild Type",
        "Bronze",
        "Opal",
        "Midnight",
        "Jade",
        "Montana",
        "Charcoal",
        "Steel",
        "Ultramarine",
        "Burnt Umber",
        "Cameo",
        "American Purple",
        "Sonja's Violet",
        "European Violet",
        "Peach",
        "Platinum",
        "Taupe",
        "Mocha",
        "Ivory",
        "Indigo",
        "Hazel",
        "Midway between Violet and Purple"
       ],
       "description": "Color:",
       "index": 17,
       "layout": "IPY_MODEL_00a0dbf5affa408a8495dc5a2f3171ec",
       "style": "IPY_MODEL_5fb4e6d74b2e49e0911b03b1e837732b"
      }
     },
     "c14ff6bc1298496aa3912a989d00a9ca": {
      "model_module": "@jupyter-widgets/controls",
      "model_module_version": "2.0.0",
      "model_name": "DescriptionStyleModel",
      "state": {
       "description_width": ""
      }
     },
     "c34838ce41da4d8cac8f441ee5172494": {
      "model_module": "@jupyter-widgets/controls",
      "model_module_version": "2.0.0",
      "model_name": "DropdownModel",
      "state": {
       "_options_labels": [
        "WT/WT",
        "WT/bu",
        "bu/bu"
       ],
       "description": "Burnt Umber:",
       "index": 0,
       "layout": "IPY_MODEL_e642f28d237d46c3a38c0814c5e347fc",
       "style": "IPY_MODEL_4ab1c51ecfd84376a0f80b15e3eaead8"
      }
     },
     "c3e7e019b79440ca8a86cf742a57143e": {
      "model_module": "@jupyter-widgets/base",
      "model_module_version": "2.0.0",
      "model_name": "LayoutModel",
      "state": {}
     },
     "c424585a1e054b4f81039610c46c46ef": {
      "model_module": "@jupyter-widgets/base",
      "model_module_version": "2.0.0",
      "model_name": "LayoutModel",
      "state": {}
     },
     "c438cf043cca4f2e9a123ede04ec5983": {
      "model_module": "@jupyter-widgets/controls",
      "model_module_version": "2.0.0",
      "model_name": "DropdownModel",
      "state": {
       "_options_labels": [
        "WT/WT",
        "WT/md",
        "md/md"
       ],
       "description": "Midnight:",
       "index": 2,
       "layout": "IPY_MODEL_1a069a94afd94194877e32f8546ea14c",
       "style": "IPY_MODEL_0a8d3a3c1a1e457083e4700c6119df27"
      }
     },
     "c6367a7b1a2341a296e43cdad934ef60": {
      "buffers": [
       {
        "data": "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",
        "encoding": "base64",
        "path": [
         "value"
        ]
       }
      ],
      "model_module": "@jupyter-widgets/controls",
      "model_module_version": "2.0.0",
      "model_name": "ImageModel",
      "state": {
       "height": "300",
       "layout": "IPY_MODEL_ec7f195adfce44f78003d6ab7f65207f",
       "width": "300"
      }
     },
     "c9a2d39292f0465490ce9d24740e5d64": {
      "model_module": "@jupyter-widgets/controls",
      "model_module_version": "2.0.0",
      "model_name": "DescriptionStyleModel",
      "state": {
       "description_width": ""
      }
     },
     "ca8f3828e0d745ad947784aa70bf99ed": {
      "model_module": "@jupyter-widgets/base",
      "model_module_version": "2.0.0",
      "model_name": "LayoutModel",
      "state": {}
     },
     "cf08e44c5eea49d78dcb9f7c0b5199a7": {
      "model_module": "@jupyter-widgets/base",
      "model_module_version": "2.0.0",
      "model_name": "LayoutModel",
      "state": {}
     },
     "d0d64937dc0245c7851134f80aeec360": {
      "model_module": "@jupyter-widgets/base",
      "model_module_version": "2.0.0",
      "model_name": "LayoutModel",
      "state": {}
     },
     "d12b5290c5fb42fbb1f0a0e42a2979d9": {
      "model_module": "@jupyter-widgets/controls",
      "model_module_version": "2.0.0",
      "model_name": "DescriptionStyleModel",
      "state": {
       "description_width": ""
      }
     },
     "d2d7c22dc10449aba69b9b722f17c61e": {
      "model_module": "@jupyter-widgets/base",
      "model_module_version": "2.0.0",
      "model_name": "LayoutModel",
      "state": {}
     },
     "d30c0efbe32a4c6ba941d9bd860a73f2": {
      "model_module": "@jupyter-widgets/controls",
      "model_module_version": "2.0.0",
      "model_name": "DropdownModel",
      "state": {
       "_options_labels": [
        "WT/WT",
        "WT/bu",
        "bu/bu"
       ],
       "description": "Burnt Umber:",
       "index": 0,
       "layout": "IPY_MODEL_d50b92127efd4799a6beaee2ceb693a8",
       "style": "IPY_MODEL_c14ff6bc1298496aa3912a989d00a9ca"
      }
     },
     "d393a5a6b9b9421280308a541bac940d": {
      "model_module": "@jupyter-widgets/controls",
      "model_module_version": "2.0.0",
      "model_name": "DescriptionStyleModel",
      "state": {
       "description_width": ""
      }
     },
     "d417c4e510184359a3124af9f606967c": {
      "model_module": "@jupyter-widgets/base",
      "model_module_version": "2.0.0",
      "model_name": "LayoutModel",
      "state": {}
     },
     "d4b16f55a64845eea45f6986be4c2524": {
      "model_module": "@jupyter-widgets/base",
      "model_module_version": "2.0.0",
      "model_name": "LayoutModel",
      "state": {}
     },
     "d4f0bae37afb4f07bebe13facced44d7": {
      "model_module": "@jupyter-widgets/controls",
      "model_module_version": "2.0.0",
      "model_name": "DropdownModel",
      "state": {
       "_options_labels": [
        "WT/WT",
        "WT/mo",
        "mo/mo"
       ],
       "description": "Montana:",
       "index": 0,
       "layout": "IPY_MODEL_7b584f919abb44489fd219eb7a281709",
       "style": "IPY_MODEL_2b9736f4c92c4da388fa40441723c128"
      }
     },
     "d50b92127efd4799a6beaee2ceb693a8": {
      "model_module": "@jupyter-widgets/base",
      "model_module_version": "2.0.0",
      "model_name": "LayoutModel",
      "state": {}
     },
     "d64d8b431d784b33ae870b6801da1b2f": {
      "model_module": "@jupyter-widgets/controls",
      "model_module_version": "2.0.0",
      "model_name": "LabelModel",
      "state": {
       "layout": "IPY_MODEL_5e3afe2fa6ab4f4a865485773db6b5d0",
       "style": "IPY_MODEL_745b4ec7296d4a2096129135fa5db4b1",
       "value": "Or edit the genotype of the birds directly:"
      }
     },
     "d9ba4d9c488449c792e78b0b4c9df957": {
      "model_module": "@jupyter-widgets/base",
      "model_module_version": "2.0.0",
      "model_name": "LayoutModel",
      "state": {}
     },
     "d9e3b79b9325414c814f82841ef8b230": {
      "model_module": "@jupyter-widgets/controls",
      "model_module_version": "2.0.0",
      "model_name": "LabelModel",
      "state": {
       "layout": "IPY_MODEL_d417c4e510184359a3124af9f606967c",
       "style": "IPY_MODEL_2ae536cce76d44ca907e1bcd53c94447",
       "value": "Male Peacock"
      }
     },
     "dbf59f94632d44dd9638cae1bfc168a1": {
      "model_module": "@jupyter-widgets/base",
      "model_module_version": "2.0.0",
      "model_name": "LayoutModel",
      "state": {}
     },
     "dd706a81b90e4b1dbb3d9d185fe39334": {
      "model_module": "@jupyter-widgets/controls",
      "model_module_version": "2.0.0",
      "model_name": "DescriptionStyleModel",
      "state": {
       "description_width": ""
      }
     },
     "dd7687741e5b4955a614e64466864fac": {
      "model_module": "@jupyter-widgets/controls",
      "model_module_version": "2.0.0",
      "model_name": "DescriptionStyleModel",
      "state": {
       "description_width": ""
      }
     },
     "dffe82d29f6b4c1f822003d7bbb457d0": {
      "model_module": "@jupyter-widgets/controls",
      "model_module_version": "2.0.0",
      "model_name": "DropdownModel",
      "state": {
       "_options_labels": [
        "WT/WT",
        "WT/j",
        "j/j"
       ],
       "description": "Jade:",
       "index": 0,
       "layout": "IPY_MODEL_e7c5c70c9c93437aa3ef0e4414f91ad3",
       "style": "IPY_MODEL_dd706a81b90e4b1dbb3d9d185fe39334"
      }
     },
     "e0726b8e5ee0455f84bc491c4aed9188": {
      "model_module": "@jupyter-widgets/controls",
      "model_module_version": "2.0.0",
      "model_name": "VBoxModel",
      "state": {
       "children": [
        "IPY_MODEL_31562f1780b34d82b132c5f15212f607",
        "IPY_MODEL_e3ce84fa5e484ab89ba33b1e8595a84b",
        "IPY_MODEL_96550b8cf200460e885c7ae89302885a",
        "IPY_MODEL_c438cf043cca4f2e9a123ede04ec5983",
        "IPY_MODEL_dffe82d29f6b4c1f822003d7bbb457d0",
        "IPY_MODEL_d4f0bae37afb4f07bebe13facced44d7",
        "IPY_MODEL_30d7b6ba46ee4b73b19e0e8f3e502ae0",
        "IPY_MODEL_99f97e7bc3fc47cd948ea3f0204e72b4",
        "IPY_MODEL_aa11030dbf68472094cc3f95e8002a43",
        "IPY_MODEL_d30c0efbe32a4c6ba941d9bd860a73f2",
        "IPY_MODEL_86685f85147e468595b8738421c3e678"
       ],
       "layout": "IPY_MODEL_fea30bd0f5c44756931ee44a2df139a6"
      }
     },
     "e3190ffff0134535bfa38964d5c72822": {
      "model_module": "@jupyter-widgets/base",
      "model_module_version": "2.0.0",
      "model_name": "LayoutModel",
      "state": {}
     },
     "e3ce84fa5e484ab89ba33b1e8595a84b": {
      "model_module": "@jupyter-widgets/controls",
      "model_module_version": "2.0.0",
      "model_name": "DropdownModel",
      "state": {
       "_options_labels": [
        "WT/WT",
        "WT/br",
        "br/br"
       ],
       "description": "Bronze:",
       "index": 0,
       "layout": "IPY_MODEL_c424585a1e054b4f81039610c46c46ef",
       "style": "IPY_MODEL_d393a5a6b9b9421280308a541bac940d"
      }
     },
     "e41881375fa3477bab990b7c8f5e1ed4": {
      "model_module": "@jupyter-widgets/base",
      "model_module_version": "2.0.0",
      "model_name": "LayoutModel",
      "state": {}
     },
     "e473d197b9e4454e87fdfc3fc39cf8ee": {
      "model_module": "@jupyter-widgets/controls",
      "model_module_version": "2.0.0",
      "model_name": "DropdownModel",
      "state": {
       "_options_labels": [
        "Non-Leucistic Wild Type",
        "Dark Pied",
        "White",
        "White Eye",
        "Silver White Eye",
        "Pied"
       ],
       "description": "Leucistic:",
       "index": 0,
       "layout": "IPY_MODEL_e8128a66f9e94f3aaaa05788acc6d40f",
       "style": "IPY_MODEL_26ae04f325464e9f9865cc1fd04c445a"
      }
     },
     "e642f28d237d46c3a38c0814c5e347fc": {
      "model_module": "@jupyter-widgets/base",
      "model_module_version": "2.0.0",
      "model_name": "LayoutModel",
      "state": {}
     },
     "e650168e56b2413689027be4ed8c2d85": {
      "model_module": "@jupyter-widgets/controls",
      "model_module_version": "2.0.0",
      "model_name": "DropdownModel",
      "state": {
       "_options_labels": [
        "Barred Wing Wild Type",
        "Blackshoulder"
       ],
       "description": "Pattern:",
       "index": 0,
       "layout": "IPY_MODEL_7e4125cd202a4bb88d1dd86e52609788",
       "style": "IPY_MODEL_073b6f127b854d7eb9feb14a959af0da"
      }
     },
     "e7c5c70c9c93437aa3ef0e4414f91ad3": {
      "model_module": "@jupyter-widgets/base",
      "model_module_version": "2.0.0",
      "model_name": "LayoutModel",
      "state": {}
     },
     "e8128a66f9e94f3aaaa05788acc6d40f": {
      "model_module": "@jupyter-widgets/base",
      "model_module_version": "2.0.0",
      "model_name": "LayoutModel",
      "state": {}
     },
     "ebf8888e0bfd42c082980492885d31cb": {
      "model_module": "@jupyter-widgets/controls",
      "model_module_version": "2.0.0",
      "model_name": "HBoxModel",
      "state": {
       "children": [
        "IPY_MODEL_086ecc41df9948c98ade01896e0295f1",
        "IPY_MODEL_74b7b5f7cf64479fa78c896269efe58d"
       ],
       "layout": "IPY_MODEL_6e1345f5789f468db56d5ff944b1499c"
      }
     },
     "ec7f195adfce44f78003d6ab7f65207f": {
      "model_module": "@jupyter-widgets/base",
      "model_module_version": "2.0.0",
      "model_name": "LayoutModel",
      "state": {}
     },
     "ee3f1b30ed2e4a7e829b8c3ddceb5597": {
      "model_module": "@jupyter-widgets/base",
      "model_module_version": "2.0.0",
      "model_name": "LayoutModel",
      "state": {}
     },
     "f0df3b502af84f34a80d25a6dda86a57": {
      "model_module": "@jupyter-widgets/base",
      "model_module_version": "2.0.0",
      "model_name": "LayoutModel",
      "state": {}
     },
     "f1747ecd26d44132b2986215bcc2b168": {
      "model_module": "@jupyter-widgets/controls",
      "model_module_version": "2.0.0",
      "model_name": "DescriptionStyleModel",
      "state": {
       "description_width": ""
      }
     },
     "f229e4825d254f568d3f04585c4ed9b3": {
      "model_module": "@jupyter-widgets/controls",
      "model_module_version": "2.0.0",
      "model_name": "DropdownModel",
      "state": {
       "_options_labels": [
        "Z(WT)/Z(WT)",
        "Z(WT)/Z(c)",
        "Z(WT)/Z(pl)",
        "Z(WT)/Z(va)",
        "Z(WT)/Z(ve)",
        "Z(WT)/Z(pl:c)",
        "Z(c)/Z(c)",
        "Z(c)/Z(pl)",
        "Z(c)/Z(va)",
        "Z(c)/Z(ve)",
        "Z(c)/Z(pl:c)",
        "Z(pl)/Z(pl)",
        "Z(pl)/Z(va)",
        "Z(pl)/Z(ve)",
        "Z(pl)/Z(pl:c)",
        "Z(va)/Z(va)",
        "Z(va)/Z(ve)",
        "Z(va)/Z(pl:c)",
        "Z(ve)/Z(ve)",
        "Z(ve)/Z(pl:c)",
        "Z(pl:c)/Z(pl:c)"
       ],
       "description": "Sex-Linked Color:",
       "index": 0,
       "layout": "IPY_MODEL_601fbba1a0804707ad49da62df516684",
       "style": "IPY_MODEL_b16733a073c549fcbc01a79016d95d2b"
      }
     },
     "f8dfd0ac5b434bcb9476eb132c72eb64": {
      "model_module": "@jupyter-widgets/controls",
      "model_module_version": "2.0.0",
      "model_name": "HBoxModel",
      "state": {
       "children": [
        "IPY_MODEL_a5f3207ce9ef478aa2374c8ce71ca144",
        "IPY_MODEL_c6367a7b1a2341a296e43cdad934ef60"
       ],
       "layout": "IPY_MODEL_dbf59f94632d44dd9638cae1bfc168a1"
      }
     },
     "fc8b08e456a3431b97df3c9fe632cf3e": {
      "model_module": "@jupyter-widgets/base",
      "model_module_version": "2.0.0",
      "model_name": "LayoutModel",
      "state": {}
     },
     "fea30bd0f5c44756931ee44a2df139a6": {
      "model_module": "@jupyter-widgets/base",
      "model_module_version": "2.0.0",
      "model_name": "LayoutModel",
      "state": {}
     }
    },
    "version_major": 2,
    "version_minor": 0
   }
  }
 },
 "nbformat": 4,
 "nbformat_minor": 5
}
