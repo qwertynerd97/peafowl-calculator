{
 "cells": [
  {
   "cell_type": "markdown",
   "id": "16aec6b8-339f-47c1-a933-f29e574aa6fe",
   "metadata": {},
   "source": [
    "# Genotype-Phenotype Converters\n",
    "This file creates the code that allows us to convert back and forth between a bird's genotype and its phenotype"
   ]
  },
  {
   "cell_type": "markdown",
   "id": "8ba9e595-42e2-47ca-9d48-28a1ba73bf1b",
   "metadata": {},
   "source": [
    "First, we create a function that lets us take a dictionary of genes in the bird, and add or update the genotype for a specific gene"
   ]
  },
  {
   "cell_type": "code",
   "execution_count": 1,
   "id": "7cfb0889-b7c5-4954-a81f-75562de06e2f",
   "metadata": {},
   "outputs": [],
   "source": [
    "def saveGenotypeToBird(bird, geneName, genotype):\n",
    "    bird[geneName] = genotype"
   ]
  },
  {
   "cell_type": "markdown",
   "id": "656fa3ad-ca5d-416b-8841-67ce1c986bc0",
   "metadata": {},
   "source": [
    "We can test this code by adding a new gene to a bird, and seeing that the genotype is updated"
   ]
  },
  {
   "cell_type": "code",
   "execution_count": 3,
   "id": "e464ce3c-e6ee-4bad-9822-67dac643d9b4",
   "metadata": {},
   "outputs": [],
   "source": [
    "bird = {}\n",
    "saveGenotypeToBird(bird, \"Fake Gene\", \"WT/WT\")\n",
    "\n",
    "if not bird == {'Fake Gene': 'WT/WT'}:\n",
    "    raise Exception('Failed to verify genotype converter')"
   ]
  },
  {
   "cell_type": "code",
   "execution_count": null,
   "id": "15abb319-a78b-4c15-861c-7da58d828e7e",
   "metadata": {},
   "outputs": [],
   "source": []
  }
 ],
 "metadata": {
  "kernelspec": {
   "display_name": "Python 3 (ipykernel)",
   "language": "python",
   "name": "python3"
  },
  "language_info": {
   "codemirror_mode": {
    "name": "ipython",
    "version": 3
   },
   "file_extension": ".py",
   "mimetype": "text/x-python",
   "name": "python",
   "nbconvert_exporter": "python",
   "pygments_lexer": "ipython3",
   "version": "3.13.2"
  },
  "widgets": {
   "application/vnd.jupyter.widget-state+json": {
    "state": {},
    "version_major": 2,
    "version_minor": 0
   }
  }
 },
 "nbformat": 4,
 "nbformat_minor": 5
}
