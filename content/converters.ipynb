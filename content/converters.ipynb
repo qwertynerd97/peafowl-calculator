{
 "cells": [
  {
   "cell_type": "markdown",
   "id": "16aec6b8-339f-47c1-a933-f29e574aa6fe",
   "metadata": {},
   "source": [
    "# Genotype-Phenotype Converters\n",
    "This file creates the code that allows us to convert back and forth between a bird's genotype and its phenotype\n",
    "\n",
    "It also contains **Technical Note** sections throughout, that explain the coding and tech details of the code, and give links to external resources"
   ]
  },
  {
   "cell_type": "markdown",
   "id": "8ba9e595-42e2-47ca-9d48-28a1ba73bf1b",
   "metadata": {},
   "source": [
    "## Save Genotype\n",
    "First, we create a function that lets us take a dictionary of genes in the bird, and add or update the genotype for a specific gene\n",
    "\n",
    "**Technical Note:** [A dictionary](https://docs.python.org/3/tutorial/datastructures.html#dictionaries) is a type of data in Python that contains a bunch of pieces of smaller data linked to specific words. Data can be saved under a specific name, and then retrived by using that same name, much like definitions in a paper dictionary."
   ]
  },
  {
   "cell_type": "code",
   "execution_count": 35,
   "id": "7cfb0889-b7c5-4954-a81f-75562de06e2f",
   "metadata": {},
   "outputs": [],
   "source": [
    "def saveGenotypeToBird(bird, geneName, genotype):\n",
    "    if genotype == 'WT/WT' or genotype == 'Z(WT)/Z(WT)' or genotype == 'Z(WT)/w':\n",
    "        if geneName in bird:\n",
    "            del bird[geneName]\n",
    "    else:\n",
    "        bird[geneName] = genotype"
   ]
  },
  {
   "cell_type": "markdown",
   "id": "656fa3ad-ca5d-416b-8841-67ce1c986bc0",
   "metadata": {},
   "source": [
    "### saveGenotypeToBird Tests\n",
    "We can test this code by adding a new gene to a bird, and seeing that the genotype is updated.\n",
    "\n",
    "**Technical Note:** This block of code is called a unit test, and is used to verify that the main code actually does what we want it to do.  The comments are formatted in [Gherkin](https://cucumber.io/docs/gherkin/), which is a language that is used to describe code tests in a human-readable way\n",
    "\n",
    "**Technical Note:** If the tests pass, the code block with the tests will not produce any output, so that when we reuse these functions in another notebook, we don't change the UI.  If the tests fail, then the code block will produce errors."
   ]
  },
  {
   "cell_type": "code",
   "execution_count": 36,
   "id": "0d8f0aa8-d1dd-4b48-aa09-0454b71c14cb",
   "metadata": {},
   "outputs": [],
   "source": [
    "# GIVEN an empty bird genome\n",
    "bird = {}\n",
    "# WHEN saveGenotypeToBird is called with a \"Fake Gene\" genotype of \"WT/WT\"\n",
    "saveGenotypeToBird(bird, \"Fake Gene\", \"WT/WT\")\n",
    "# THEN the bird will not contain a \"WT/WT\" genotype for \"Fake Gene\"\n",
    "if not bird == {}:\n",
    "    raise Exception('Failed to verify genotype converter - Issue with adding wild type gene to empty bird')"
   ]
  },
  {
   "cell_type": "code",
   "execution_count": 3,
   "id": "186af8e2-497b-4d59-903d-8df659f78c13",
   "metadata": {},
   "outputs": [],
   "source": [
    "# GIVEN a bird genome with a genotype for \"Fake Gene\"\n",
    "bird = {'Fake Gene': 'WT/WT'}\n",
    "# WHEN saveGenotypeToBird is called with a \"Fake Gene\" genotype of \"f/f\"\n",
    "saveGenotypeToBird(bird, \"Fake Gene\", \"f/f\")\n",
    "# THEN the bird will contain a \"f/f\" genotype for \"Fake Gene\"\n",
    "if not bird == {'Fake Gene': 'f/f'}:\n",
    "    raise Exception('Failed to verify genotype converter - Issue with updating genotype')"
   ]
  },
  {
   "cell_type": "markdown",
   "id": "6521ff0e-51c7-4d19-8fcf-108458eddd8b",
   "metadata": {},
   "source": [
    "## Save Phenotype\n",
    "Next, we need to create a function that takes a phenotype and saves it as a genotype.  We want to make sure to reset any genotype data that conflicts with the new phenotype, and handle cases where the phenotype may require more complex genotypes. We will break this down into several smaller functions, and link them all up together to form the final function that the peafowl calculator will actually use"
   ]
  },
  {
   "cell_type": "markdown",
   "id": "f8286d87-85ad-4b62-8bc4-8f166d8f9f2d",
   "metadata": {},
   "source": [
    "### Modify Simple Genes\n",
    "The first step in saving the phenotype will be to update the genotype for all the autosomal genes that only have two allotypes - wild type or a single possible trait.  To do this we will check each simple gene one-at-a-time.  If the name of the simple gene matches the given phenotype, we will update the genotype for that gene to be homozygous for the trait. However, if the name of the simple gene does NOT match the phenotype, we will delete any existing genotype for that gene, so it does not conflict with the given phenotype.\n",
    "\n",
    "(Don't worry about phenotypes that require multiple simple genes to be expressed; we will handle those in another function, and possibly deleting the genotypes that might be used in them will not prevent those genotypes from being re-updated when we handle those)\n",
    "\n",
    "If the phenotype was found during this update, we will return a **True** value, which will allow us to \n",
    "\n",
    "**Technical Note:** In order to check all the simple genes, we are using a [for loop](https://docs.python.org/3/tutorial/controlflow.html#for-statements), a piece of code that runs through all items in a list, and runs the same bits of code for each item in the list"
   ]
  },
  {
   "cell_type": "code",
   "execution_count": 4,
   "id": "49b3d5a6-5bd9-4865-9238-0efb1e0e8564",
   "metadata": {},
   "outputs": [],
   "source": [
    "def updateSimpleGenesWithPhenotype(bird, phenotype, simpleGenes, clearExisting = True):\n",
    "    foundPhenotype = False\n",
    "    \n",
    "    # Check simple genes\n",
    "    for gene in simpleGenes:\n",
    "        # If the current gene we are checking matches the selected\n",
    "        # phenotype, set the genotype in the bird equal to homozygous\n",
    "        # for the trait\n",
    "        if phenotype == gene['name']:\n",
    "            bird[gene['name']] = gene['notation'] + '/' + gene['notation']\n",
    "            foundPhenotype = True\n",
    "        # If the current gene we are checking does not match the phenotype\n",
    "        # we should clear the genotype for that gene\n",
    "        elif clearExisting and gene['name'] in bird:\n",
    "            del bird[gene['name']]\n",
    "\n",
    "    return foundPhenotype"
   ]
  },
  {
   "cell_type": "markdown",
   "id": "ad9b6613-25fc-428f-adb7-bea17fc7c280",
   "metadata": {},
   "source": [
    "#### updateSimpleGenesWithPhenotype Tests\n",
    "We can test this code by creating a bird with a genotype, calling the function with a different phenotype than the one that would be displayed based on the bird's genotype, and making sure that the bird's genotype is changed to match the new phenotype\n",
    "\n",
    "Note that in this test we check that the new genotype exists, but we also check that the old genotype was deleted"
   ]
  },
  {
   "cell_type": "code",
   "execution_count": 5,
   "id": "3f3902bc-29e4-4963-abfb-c741c450019b",
   "metadata": {},
   "outputs": [],
   "source": [
    "# GIVEN a bird genome with a genotype for \"Fake Gene\"\n",
    "bird = {'Fake Gene': 'f/f'}\n",
    "# AND a list of simple genes\n",
    "colorGenes = [\n",
    "    { 'notation': 'br',      'name': 'Bronze' },\n",
    "    { 'notation': 'f',       'name': 'Fake Gene' }\n",
    "]\n",
    "# WHEN updateSimpleGenes is called\n",
    "found = updateSimpleGenesWithPhenotype(bird, \"Bronze\", colorGenes)\n",
    "# THEN the bird will contain a \"br/br\" genotype for \"Bronze\"\n",
    "if not bird == {'Bronze': 'br/br'}:\n",
    "    raise Exception('Failed to verify simple gene converter - new phenotype not added')\n",
    "# AND the bird will NOT contain a genotype for \"Fake Gene\"\n",
    "if 'Fake Gene' in bird:\n",
    "    raise Exception('Failed to verify simple gene converter - old phenotype not removed')"
   ]
  },
  {
   "cell_type": "markdown",
   "id": "f08b040b-9184-4957-8ffd-7e939eb5a15f",
   "metadata": {},
   "source": [
    "### Modify Multi-Allotype Genes\n",
    "\n",
    "The second step in saving the phenotype will be to update the genotype for any genes that have multiple possible allotypes. To do this, we first clear the value for the current gene. Then we check each allotype for a specific gene to see if it matches the listed phenotype. If the name of the allotype matches the phenotype, we will update the genotype for the bird to be homozygous for the trait if it is a normal gene.  This code also accounts for sex-linked genes, so when updating the genotype for a sex-linked gene, if the bird is female it adds a \"w\" instead of the second copy of a homozygous allele  \n",
    "\n",
    "If the phenotype was found during this update, we will return a True value, which will allow us to exit early when checking multiple genes at once"
   ]
  },
  {
   "cell_type": "code",
   "execution_count": 6,
   "id": "cbd16f5c-f1db-4e83-a97d-51ce20df184d",
   "metadata": {},
   "outputs": [],
   "source": [
    "def updateGeneWithPhenotype(bird, phenotype, sex, geneName, allotypes, geneIsSexLinked = False, clearExisting = True):\n",
    "    foundPhenotype = False\n",
    "    \n",
    "    # Reset the gene to the default wild type\n",
    "    if clearExisting and geneName in bird:\n",
    "        del bird[geneName]\n",
    "        \n",
    "    # Check all allotypes to see if they match the phenotype\n",
    "    for allotype in allotypes:\n",
    "        if phenotype == allotype['name']:\n",
    "            if geneIsSexLinked and sex == 'Female':\n",
    "                bird[geneName] = allotype['notation'] + '/w'\n",
    "            else:\n",
    "                bird[geneName] = allotype['notation'] + '/' + allotype['notation']\n",
    "            foundPhenotype = True\n",
    "\n",
    "    return foundPhenotype"
   ]
  },
  {
   "cell_type": "markdown",
   "id": "aeec724f-58a6-45fd-a53d-d003953858bb",
   "metadata": {},
   "source": [
    "#### updateGeneWithPhenotype Tests"
   ]
  },
  {
   "cell_type": "code",
   "execution_count": 7,
   "id": "d39756eb-78ca-476b-8318-e2ac4031cc2c",
   "metadata": {},
   "outputs": [],
   "source": [
    "# GIVEN a female bird genome with a genotype for \"Sex-Linked Color\"\n",
    "bird = {'Sex-Linked Color': 'Z(c)/w'}\n",
    "# AND a list of allotypes\n",
    "sexLinkedColorAllotypes = [\n",
    "    { 'notation': 'Z(c)',    'name': 'Cameo' },\n",
    "    { 'notation': 'Z(pl)',   'name': 'American Purple' }\n",
    "]\n",
    "# WHEN updateGeneWithPhenotype is called on a female bird for a sex-linked gene\n",
    "found = updateGeneWithPhenotype(bird, \"American Purple\", 'Female', 'Sex-Linked Color', sexLinkedColorAllotypes, True)\n",
    "# THEN the bird will contain a \"Z(pl)/w\" genotype for \"Sex-Linked Color\"\n",
    "if not bird == {'Sex-Linked Color': 'Z(pl)/w'}:\n",
    "    raise Exception('Failed to verify allotype gene converter - female sex-linked phenotype not added')"
   ]
  },
  {
   "cell_type": "code",
   "execution_count": 8,
   "id": "6f437bc1-9aa0-4127-adbd-c49b66d17f2e",
   "metadata": {},
   "outputs": [],
   "source": [
    "# GIVEN a male bird genome with a genotype for \"Sex-Linked Color\"\n",
    "bird = {'Sex-Linked Color': 'Z(c)/Z(c)'}\n",
    "# AND a list of allotypes\n",
    "sexLinkedColorAllotypes = [\n",
    "    { 'notation': 'Z(c)',    'name': 'Cameo' },\n",
    "    { 'notation': 'Z(pl)',   'name': 'American Purple' }\n",
    "]\n",
    "# WHEN updateGeneWithPhenotype is called on a male bird for a sex-linked gene\n",
    "found = updateGeneWithPhenotype(bird, \"American Purple\", 'Male', 'Sex-Linked Color', sexLinkedColorAllotypes, True)\n",
    "# THEN the bird will contain a \"Z(pl)/Z(pl)\" genotype for \"Sex-Linked Color\"\n",
    "if not bird == {'Sex-Linked Color': 'Z(pl)/Z(pl)'}:\n",
    "    raise Exception('Failed to verify allotype gene converter - male sex-linked phenotype not added')"
   ]
  },
  {
   "cell_type": "code",
   "execution_count": 9,
   "id": "be059cc0-5c63-4672-995c-52364bc38007",
   "metadata": {},
   "outputs": [],
   "source": [
    "# GIVEN a bird genome with a genotype for \"Pied\"\n",
    "bird = {'Pied': 'W/W'}\n",
    "# AND a list of pied allotypes\n",
    "piedAllotypes = [\n",
    "    { 'notation': 'p',       'name': 'Dark Pied' },\n",
    "    { 'notation': 'W',       'name': 'White' }\n",
    "]\n",
    "# WHEN updateGeneWithPhenotype is called\n",
    "found = updateGeneWithPhenotype(bird, \"Dark Pied\", 'Female', 'Pied', piedAllotypes)\n",
    "# THEN the bird will contain a \"p/p\" genotype for \"Pied\"\n",
    "if not bird == {'Pied': 'p/p'}:\n",
    "    raise Exception('Failed to verify allotype gene converter - phenotype not added')"
   ]
  },
  {
   "cell_type": "markdown",
   "id": "f1881658-3917-4c7f-8cae-cdd7ec3cb876",
   "metadata": {},
   "source": [
    "### Modify Het-Allele Genes\n",
    "We also want to modify the genotype for birds where the phenotype is a result of a heterogynous genotype.  Because these phenotypes may overlap, we will assume that the first one in the list whose name matches the phenotype is the correct genotype"
   ]
  },
  {
   "cell_type": "code",
   "execution_count": 10,
   "id": "27319aef-6786-45de-be5c-810bbbd37e07",
   "metadata": {},
   "outputs": [],
   "source": [
    "def updateGenesWithHetAllelePhenotype(bird, phenotype, hetPhenotypes):\n",
    "    foundPhenotype = False\n",
    "        \n",
    "    # Check all named het phenotypes to see if they match the phenotype\n",
    "    for hetPhenotype in hetPhenotypes:\n",
    "        if phenotype == hetPhenotype['name']:\n",
    "            bird[hetPhenotype['geneName']] = hetPhenotype['alleles'][0] + '/' + hetPhenotype['alleles'][1]\n",
    "            foundPhenotype = True\n",
    "\n",
    "    return foundPhenotype"
   ]
  },
  {
   "cell_type": "markdown",
   "id": "93eab978-fab3-447f-848d-82cb0cc1b335",
   "metadata": {},
   "source": [
    "#### updateGeneWithHetAllelePhenotype Tests"
   ]
  },
  {
   "cell_type": "code",
   "execution_count": 11,
   "id": "cf0f2b8c-efec-41cf-a2ad-aff2737f7c9d",
   "metadata": {},
   "outputs": [],
   "source": [
    "# GIVEN a bird genome with a genotype for \"Pied\"\n",
    "bird = {'Pied': 'W/W'}\n",
    "# AND a list of het phenotypes\n",
    "hetPhenotypes = [\n",
    "    { 'name': 'Pied',      'geneName': 'Pied', 'alleles': ['W', 'p'] },\n",
    "    { 'name': 'Dark Pied', 'geneName': 'Pied', 'alleles': ['WT', 'p'] },\n",
    "    { 'name': 'Dark Pied', 'geneName': 'Pied', 'alleles': ['WT', 'W'] }\n",
    "]\n",
    "# WHEN updateGeneWithPhenotype is called\n",
    "found = updateGenesWithHetAllelePhenotype(bird, \"Pied\", hetPhenotypes)\n",
    "# THEN the bird will contain a \"W/p\" genotype for \"Pied\"\n",
    "if not bird == {'Pied': 'W/p'}:\n",
    "    raise Exception('Failed to verify allotype gene converter - phenotype not added')"
   ]
  },
  {
   "cell_type": "markdown",
   "id": "59cfc04a-7df4-426f-b44d-d8e6816825b9",
   "metadata": {},
   "source": [
    "### Putting It All Together\n",
    "\n",
    "Now that we have created a handful of functions that can handle converting various phenotypes to the appropriate genotype, we can put all the smaller functions together into one larger function that checks all the different kinds of genes and allotypes to get the complete genotype for a specific phenotype"
   ]
  },
  {
   "cell_type": "code",
   "execution_count": 12,
   "id": "15abb319-a78b-4c15-861c-7da58d828e7e",
   "metadata": {},
   "outputs": [],
   "source": [
    "# This converts a phenotype to a genotype in a bird, assuming the phenotype breeds true\n",
    "def savePhenotypeToBird(bird, phenotype, sex, simpleGenes, multiAllotypeGenes, \n",
    "                        sexLinkedAllotypes, multiGeneTraits, \n",
    "                        sexAndAutosomalCombos, hetTraits):\n",
    "    # Update the simple genes\n",
    "    foundPhenotype = updateSimpleGenesWithPhenotype(bird, phenotype, simpleGenes)\n",
    "    \n",
    "    # Update the sex-linked color genes\n",
    "    for gene in multiAllotypeGenes:\n",
    "        if updateGeneWithPhenotype(bird, phenotype, sex, gene['name'], gene['allotypes'], gene['sexLinked']):\n",
    "            foundPhenotype = True\n",
    "\n",
    "    # At this point, all genes have been cleared except for a matched phenotype\n",
    "    # If we have found the matching phenotype already, we can stop here\n",
    "    if foundPhenotype:\n",
    "        return\n",
    "                        \n",
    "    # Save phenotype for het sex traits, and return if we find a phenotype\n",
    "    if updateGenesWithHetAllelePhenotype(bird, phenotype, hetTraits):\n",
    "        return\n",
    "\n",
    "    # Save the phenotype data for genotypes that match multiple genes\n",
    "    for trait in multiGeneTraits:\n",
    "        if phenotype == trait['name']:\n",
    "            # for each gene that makes up the multi-gene trait\n",
    "            for geneName in trait['genesNeeded']:\n",
    "                # check for that phenotype in the simple gene list and save it to the bird\n",
    "                if updateSimpleGenesWithPhenotype(bird, geneName, simpleGenes, False):\n",
    "                    # if we updated the genotype, that means we found a match for this phenotype\n",
    "                    # and should stop looking\n",
    "                    continue\n",
    "    \n",
    "                # check for that phenotype in the multiAllotypeGenes and save it to the bird\n",
    "                foundPhenotype = False\n",
    "                for gene in multiAllotypeGenes:\n",
    "                    if updateGeneWithPhenotype(bird, geneName, sex, gene['name'], gene['allotypes'], gene['sexLinked'], False):\n",
    "                        foundPhenotype = True\n",
    "                        continue\n",
    "                        \n",
    "                # if we updated the genotype, that means we found a match for this phenotype\n",
    "                # and should stop looking\n",
    "                if foundPhenotype:\n",
    "                    continue\n",
    "    \n",
    "                updateGenesWithHetAllelePhenotype(bird, geneName, hetTraits)\n",
    "            \n",
    "            break\n",
    "            "
   ]
  },
  {
   "cell_type": "markdown",
   "id": "bbfce677-a061-49e9-97bf-5dc13fcb08da",
   "metadata": {},
   "source": [
    "#### savePhenotypeToBird Tests"
   ]
  },
  {
   "cell_type": "code",
   "execution_count": 13,
   "id": "f03d78fd-c727-4d86-afc5-1826b7a4a6f7",
   "metadata": {},
   "outputs": [],
   "source": [
    "# GIVEN a bird genome with a genotype for \"Fake Gene\"\n",
    "bird = {'Fake Gene': 'f/f'}\n",
    "# AND a list of simple genes\n",
    "colorGenes = [\n",
    "    { 'notation': 'br',      'name': 'Bronze' },\n",
    "    { 'notation': 'f',       'name': 'Fake Gene' }\n",
    "]\n",
    "# WHEN savePhenotypeToBird is called\n",
    "found = savePhenotypeToBird(bird, \"Bronze\", 'Male', colorGenes, [], [], [], [], [])\n",
    "# THEN the bird will contain a \"br/br\" genotype for \"Bronze\"\n",
    "if not bird == {'Bronze': 'br/br'}:\n",
    "    raise Exception('Failed to verify phenotype-to-gene converter - new phenotype not added')\n",
    "# AND the bird will NOT contain a genotype for \"Fake Gene\"\n",
    "if 'Fake Gene' in bird:\n",
    "    raise Exception('Failed to verify phenotype-to-gene converter - old simple phenotype not removed')"
   ]
  },
  {
   "cell_type": "code",
   "execution_count": 14,
   "id": "0cd913e0-183c-48ba-9287-c0967eb8a7da",
   "metadata": {},
   "outputs": [],
   "source": [
    "# GIVEN a female bird genome with a genotype for \"Sex-Linked Color\"\n",
    "bird = {'Sex-Linked Color': 'Z(c)/w'}\n",
    "# AND a list of allotypes\n",
    "sexLinkedColorAllotypes = [\n",
    "    { 'notation': 'Z(c)',    'name': 'Cameo' },\n",
    "    { 'notation': 'Z(pl)',   'name': 'American Purple' }\n",
    "]\n",
    "# WHEN savePhenotypeToBird is called on a female bird for a sex-linked gene\n",
    "found = savePhenotypeToBird(bird, \"American Purple\", 'Female', [], [\n",
    "    { 'name': 'Sex-Linked Color', 'allotypes': sexLinkedColorAllotypes, 'sexLinked': True }\n",
    "], sexLinkedColorAllotypes, [], [], [])\n",
    "# THEN the bird will contain a \"Z(pl)/w\" genotype for \"Sex-Linked Color\"\n",
    "if not bird == {'Sex-Linked Color': 'Z(pl)/w'}:\n",
    "    raise Exception('Failed to verify phenotype-to-gene converter - female sex-linked phenotype not added')"
   ]
  },
  {
   "cell_type": "code",
   "execution_count": 15,
   "id": "d9be6138-c797-4b03-8ece-2c14534d7343",
   "metadata": {},
   "outputs": [],
   "source": [
    "# GIVEN a male bird genome with a genotype for \"Sex-Linked Color\"\n",
    "bird = {'Sex-Linked Color': 'Z(c)/Z(c)'}\n",
    "# AND a list of allotypes\n",
    "sexLinkedColorAllotypes = [\n",
    "    { 'notation': 'Z(c)',    'name': 'Cameo' },\n",
    "    { 'notation': 'Z(pl)',   'name': 'American Purple' }\n",
    "]\n",
    "# WHEN savePhenotypeToBird is called on a male bird for a sex-linked gene\n",
    "found = savePhenotypeToBird(bird, \"American Purple\", 'Male', [], [\n",
    "    { 'name': 'Sex-Linked Color', 'allotypes': sexLinkedColorAllotypes, 'sexLinked': True }\n",
    "], sexLinkedColorAllotypes, [], [], [])\n",
    "# THEN the bird will contain a \"Z(pl)/Z(pl)\" genotype for \"Sex-Linked Color\"\n",
    "if not bird == {'Sex-Linked Color': 'Z(pl)/Z(pl)'}:\n",
    "    raise Exception('Failed to verify phenotype-to-gene converter - male sex-linked phenotype not added')"
   ]
  },
  {
   "cell_type": "code",
   "execution_count": 16,
   "id": "1bd445cb-4518-418c-b5e8-89494722a210",
   "metadata": {},
   "outputs": [],
   "source": [
    "# GIVEN a bird genome with a genotype for \"Pied\"\n",
    "bird = {'Pied': 'W/W'}\n",
    "# AND a list of pied allotypes\n",
    "piedAllotypes = [\n",
    "    { 'notation': 'p',       'name': 'Dark Pied' },\n",
    "    { 'notation': 'W',       'name': 'White' }\n",
    "]\n",
    "# WHEN savePhenotypeToBird is called\n",
    "found = savePhenotypeToBird(bird, \"Dark Pied\", 'Female', [], [\n",
    "    { 'name': 'Pied', 'allotypes': piedAllotypes, 'sexLinked': False }\n",
    "], piedAllotypes, [], [], [])\n",
    "# THEN the bird will contain a \"p/p\" genotype for \"Pied\"\n",
    "if not bird == {'Pied': 'p/p'}:\n",
    "    raise Exception('Failed to verify phenotype-to-gene converter - pied allotype phenotype not added')"
   ]
  },
  {
   "cell_type": "code",
   "execution_count": 17,
   "id": "09b9601e-24ab-486b-b4a4-fad86c14832e",
   "metadata": {},
   "outputs": [],
   "source": [
    "# GIVEN a bird genome with a genotype for \"Pied\"\n",
    "bird = {'Pied': 'W/W'}\n",
    "# AND a list of het phenotypes\n",
    "hetPhenotypes = [\n",
    "    { 'name': 'Pied',      'geneName': 'Pied', 'alleles': ['W', 'p'] },\n",
    "    { 'name': 'Dark Pied', 'geneName': 'Pied', 'alleles': ['WT', 'p'] },\n",
    "    { 'name': 'Dark Pied', 'geneName': 'Pied', 'alleles': ['WT', 'W'] }\n",
    "]\n",
    "# WHEN savePhenotypeToBird is called with \"Pied\"\n",
    "found = savePhenotypeToBird(bird, \"Pied\", 'Female', [], [], [], [], [], hetPhenotypes)\n",
    "# THEN the bird will contain a \"W/p\" genotype for \"Pied\"\n",
    "if not bird == {'Pied': 'W/p'}:\n",
    "    raise Exception('Failed to verify phenotype-to-gene converter - pied het phenotype not added')"
   ]
  },
  {
   "cell_type": "code",
   "execution_count": 18,
   "id": "2528ba08-d512-4be5-8318-3f0ff28e29c0",
   "metadata": {},
   "outputs": [
    {
     "name": "stdout",
     "output_type": "stream",
     "text": [
      "{'Bronze': 'br/br', 'Opal': 'o/o'}\n"
     ]
    }
   ],
   "source": [
    "# GIVEN an empty bird\n",
    "bird = {}\n",
    "# AND a list of simple genes\n",
    "colorGenes = [\n",
    "    { 'notation': 'br',      'name': 'Bronze' },\n",
    "    { 'notation': 'o',       'name': 'Opal' }\n",
    "]\n",
    "# AND a list of multi-gene phenotypes\n",
    "multiGeneColors = [\n",
    "    { 'name': 'Platinum',      'genes': ['br', 'o'], 'genesNeeded': ['Bronze', 'Opal' ] }\n",
    "]\n",
    "# WHEN savePhenotypeToBird is called with Platinum\n",
    "found = savePhenotypeToBird(bird, \"Platinum\", 'Female', colorGenes, [], [], multiGeneColors, [], hetPhenotypes)\n",
    "# THEN the bird will contain \"Bronze\" and \"Opal\"\n",
    "if not bird == {'Bronze': 'br/br', 'Opal': 'o/o'}:\n",
    "    raise Exception('Failed to verify phenotype-to-gene converter - phenotype not added')"
   ]
  },
  {
   "cell_type": "code",
   "execution_count": 19,
   "id": "3a860921-e2d5-44b9-9431-c39d39d3694f",
   "metadata": {},
   "outputs": [],
   "source": [
    "# GIVEN an empty bird\n",
    "bird = {}\n",
    "# AND a list of simple genes\n",
    "colorGenes = [\n",
    "    { 'notation': 'br',      'name': 'Bronze' },\n",
    "    { 'notation': 'o',       'name': 'Opal' }\n",
    "]\n",
    "# AND a list of multi-gene phenotypes\n",
    "multiGeneColors = [\n",
    "    { 'name': 'Platinum',      'genes': ['br', 'o'], 'genesNeeded': ['Bronze', 'Opal' ] },\n",
    "    { 'name': 'Taupe',      'genes': ['br', 'o'], 'genesNeeded': ['American Purple', 'Opal' ] }\n",
    "]\n",
    "# AND a list of allotypes\n",
    "sexLinkedColorAllotypes = [\n",
    "    { 'notation': 'Z(c)',    'name': 'Cameo' },\n",
    "    { 'notation': 'Z(pl)',   'name': 'American Purple' }\n",
    "]\n",
    "# WHEN savePhenotypeToBird is called with \"Taupe\"\n",
    "found = savePhenotypeToBird(bird, \"Taupe\", 'Female', colorGenes, [\n",
    "    { 'name': 'Sex-Linked Color', 'allotypes': sexLinkedColorAllotypes, 'sexLinked': True }\n",
    "], [], multiGeneColors, [], [])\n",
    "# THEN the bird will contain \"Bronze\" and \"Opal\"\n",
    "if not bird == {'Sex-Linked Color': 'Z(pl)/w', 'Opal': 'o/o'}:\n",
    "    raise Exception('Failed to verify phenotype-to-gene converter - phenotype not added')"
   ]
  },
  {
   "cell_type": "markdown",
   "id": "6290d8dd-4e8b-4b0f-b78b-02527a013484",
   "metadata": {},
   "source": [
    "## Convert Genotype to Phenotype\n",
    "\n",
    "Finally, we need to create a function that can convert a bird's genotype into a phenotype.  We want to account for scenarios where the genotype matches multiple different phenotypes, since some phenotypes may overlap.  (For example, the genotype for the platinum phenotype overlaps with the genotype of bronze and opal)"
   ]
  },
  {
   "cell_type": "markdown",
   "id": "a1443720-4661-40ab-83c4-9505a50c29f1",
   "metadata": {},
   "source": [
    "### Phenotypes from Simple Genes\n",
    "The easiest part to convert is the simple genes.  We can simply check each simple gene, and see if the bird contains the correct genotype for that gene.  If it does, then we can update the phenotype of the bird to be the name of the gene.  We also update the list of previous phenotypes so that we can track overlapping phenotypes. (For example, a platinum bird would technically have three phenotypes - Bronze, Opal, and Platinum)  Tracking the overlapping phenotypes will let us determine if the described genotype has ever been recorded before.\n",
    "\n",
    "**Technical Note:** We can use a [tuple](https://docs.python.org/3/library/stdtypes.html#tuples) here to return multiple different pieces of information from the function, so we can use them elsewhere.  In this case, we are returning both a string that represents the primary phenotype, and a [list](https://docs.python.org/3/library/stdtypes.html#lists) of all other previous phenotypes that we have matched to this bird"
   ]
  },
  {
   "cell_type": "code",
   "execution_count": 20,
   "id": "1b20e6da-8534-4d67-8178-ba602ae2da1b",
   "metadata": {},
   "outputs": [],
   "source": [
    "def getSimplePhenotypesFromBird(bird, phenotypes, simpleGenes):\n",
    "    for gene in simpleGenes:\n",
    "        if gene['name'] in bird:\n",
    "            if bird[gene['name']] == gene['notation'] + '/' + gene['notation']:\n",
    "                # Add the previous bird phenotype to the list, and change the current phenotype\n",
    "                phenotypes.append(gene['name'])\n",
    "\n",
    "    return phenotypes"
   ]
  },
  {
   "cell_type": "markdown",
   "id": "db23a482-f455-425b-86ca-df4b4fcfb984",
   "metadata": {},
   "source": [
    "#### getSimplePhenotypesFromBird Tests"
   ]
  },
  {
   "cell_type": "code",
   "execution_count": 21,
   "id": "c9dfdec4-0b1e-4ba6-88c2-2222b4fdfedb",
   "metadata": {},
   "outputs": [],
   "source": [
    "# GIVEN a bird genome with a genotype for \"Fake Gene\"\n",
    "bird = {'Fake Gene': 'f/f'}\n",
    "# AND a list of simple genes\n",
    "colorGenes = [\n",
    "    { 'notation': 'br',      'name': 'Bronze' },\n",
    "    { 'notation': 'f',       'name': 'Fake Gene' }\n",
    "]\n",
    "# WHEN getSimplePhenotypesFromBird is called\n",
    "phenotypes = getSimplePhenotypesFromBird(bird, [], colorGenes)\n",
    "# THEN the phenotype will be \"Fake Gene\"\n",
    "if len(phenotypes) != 1 or not phenotypes[0] == \"Fake Gene\":\n",
    "    raise Exception('Failed to verify simple gene phenotype converter - incorrect phenotype found')"
   ]
  },
  {
   "cell_type": "markdown",
   "id": "f04d0886-254a-49e1-be5c-19e7ca04035b",
   "metadata": {},
   "source": [
    "### Phenotypes from Multi-Allotype Genes\n",
    "\n",
    "Next, we want to check each potential allotype for more complex genes, and save any phenotypes that match to the list of found phenotypes"
   ]
  },
  {
   "cell_type": "code",
   "execution_count": 22,
   "id": "0f7bddb6-abc9-4c71-8741-d0ddc99e6acb",
   "metadata": {},
   "outputs": [],
   "source": [
    "def getPhenotypesForGeneFromBird(bird, phenotypes, sex, geneName, allotypes, geneIsSexLinked = False):\n",
    "    for allotype in allotypes:\n",
    "        if geneName in bird and (\n",
    "            # If the gene is not sex-linked, or the bird is male, check for homozygous genes\n",
    "            ((not geneIsSexLinked or sex == 'Male') and bird[geneName] == allotype['notation'] + '/' + allotype['notation']) or\n",
    "            # If the gene is sex linked and the bird is female, check for the female-specific variant\n",
    "            ((geneIsSexLinked and sex == 'Female') and bird[geneName] == allotype['notation'] + '/w')):\n",
    "            phenotypes.append(allotype['name'])\n",
    "\n",
    "    return phenotypes"
   ]
  },
  {
   "cell_type": "markdown",
   "id": "4b24ded4-3670-4b77-83b9-252249e85afb",
   "metadata": {},
   "source": [
    "#### getPhenotypesForGeneFromBird Tests"
   ]
  },
  {
   "cell_type": "code",
   "execution_count": 23,
   "id": "bf5796ea-dbb6-4720-884f-8fe33d3c9d25",
   "metadata": {},
   "outputs": [
    {
     "name": "stdout",
     "output_type": "stream",
     "text": [
      "['Cameo']\n"
     ]
    }
   ],
   "source": [
    "# GIVEN a female bird genome with a genotype for \"Sex-Linked Color\"\n",
    "bird = {'Sex-Linked Color': 'Z(c)/w'}\n",
    "# AND a list of allotypes\n",
    "sexLinkedColorAllotypes = [\n",
    "    { 'notation': 'Z(c)',    'name': 'Cameo' },\n",
    "    { 'notation': 'Z(pl)',   'name': 'American Purple' }\n",
    "]\n",
    "# WHEN getPhenotypesForGeneFromBird is called on a female bird for a sex-linked gene\n",
    "phenotypes = getPhenotypesForGeneFromBird(bird, [], 'Female', 'Sex-Linked Color', \n",
    "                                                            sexLinkedColorAllotypes, True)\n",
    "# THEN the phenotype will be \"Cameo\"\n",
    "if len(phenotypes) != 1 or not phenotypes[0] == \"Cameo\":\n",
    "    raise Exception('Failed to verify allotype gene phenotype converter - incorrect phenotype found')"
   ]
  },
  {
   "cell_type": "code",
   "execution_count": 24,
   "id": "cd5ac055-d356-4ec0-a81a-404f6946b0b8",
   "metadata": {},
   "outputs": [],
   "source": [
    "# GIVEN a male bird genome with a genotype for \"Sex-Linked Color\"\n",
    "bird = {'Sex-Linked Color': 'Z(c)/Z(c)'}\n",
    "# AND a list of allotypes\n",
    "sexLinkedColorAllotypes = [\n",
    "    { 'notation': 'Z(c)',    'name': 'Cameo' },\n",
    "    { 'notation': 'Z(pl)',   'name': 'American Purple' }\n",
    "]\n",
    "# WHEN getPhenotypesForGeneFromBird is called on a male bird for a sex-linked gene\n",
    "phenotypes = getPhenotypesForGeneFromBird(bird, [], 'Male', 'Sex-Linked Color', sexLinkedColorAllotypes, True)\n",
    "# THEN the phenotype will be \"Cameo\"\n",
    "if len(phenotypes) != 1 or not phenotypes[0] == \"Cameo\":\n",
    "    raise Exception('Failed to verify allotype gene phenotype converter - incorrect phenotype found')"
   ]
  },
  {
   "cell_type": "code",
   "execution_count": 25,
   "id": "b298a170-95c8-47f0-b0b7-40b45680362a",
   "metadata": {},
   "outputs": [],
   "source": [
    "# GIVEN a bird genome with a genotype for \"Pied\"\n",
    "bird = {'Pied': 'W/W'}\n",
    "# AND a list of pied allotypesa\n",
    "piedAllotypes = [\n",
    "    { 'notation': 'p',       'name': 'Dark Pied' },\n",
    "    { 'notation': 'W',       'name': 'White' }\n",
    "]\n",
    "# WHEN savePhenotypeToBird is called\n",
    "phenotypes = getPhenotypesForGeneFromBird(bird, [], 'Male', 'Pied', piedAllotypes)\n",
    "# THEN the phenotype will be \"White\"\n",
    "if len(phenotypes) != 1 or not phenotypes[0] == \"White\":\n",
    "    raise Exception('Failed to verify allotype gene phenotype converter - incorrect phenotype found')"
   ]
  },
  {
   "cell_type": "markdown",
   "id": "8089a150-2fa6-4702-bb7d-9c123f4ca7a5",
   "metadata": {},
   "source": [
    "### Phenotypes from Heterozygous combinations\n",
    "Some allotypes show incomplete dominance, and create a unique phenotype when they exist as heterozygous genes.  We need to loop through all these possible combinations, and add any unique phenotypes we find"
   ]
  },
  {
   "cell_type": "code",
   "execution_count": 26,
   "id": "cffe044e-c5a4-4d1d-a4c1-920997a2d9b4",
   "metadata": {},
   "outputs": [],
   "source": [
    "def getHetPhenotypesFromBird(bird, phenotypes, hetPhenotypes):\n",
    "    for hetPhenotype in hetPhenotypes:\n",
    "        if (hetPhenotype['geneName'] in bird and \n",
    "            (bird[hetPhenotype['geneName']] == hetPhenotype['alleles'][0] + '/' + hetPhenotype['alleles'][1] or\n",
    "             bird[hetPhenotype['geneName']] == hetPhenotype['alleles'][1] + '/' + hetPhenotype['alleles'][0])):\n",
    "            # Add the previous bird phenotype to the list, and change the current phenotype\n",
    "            phenotypes.append(hetPhenotype['name'])\n",
    "\n",
    "    return phenotypes"
   ]
  },
  {
   "cell_type": "markdown",
   "id": "c7bf023f-fbe8-4417-a6be-6a2f62b71b69",
   "metadata": {},
   "source": [
    "#### getHetPhenotypesFromBird Tests"
   ]
  },
  {
   "cell_type": "code",
   "execution_count": 27,
   "id": "77859bdd-e920-4d7f-95bc-a263abba7d59",
   "metadata": {},
   "outputs": [],
   "source": [
    "# GIVEN a bird genome with a genotype for \"Pied\"\n",
    "bird = {'Pied': 'W/p'}\n",
    "# AND a list of het phenotypes\n",
    "hetPhenotypes = [\n",
    "    { 'name': 'Pied',      'geneName': 'Pied', 'alleles': ['W', 'p'] },\n",
    "    { 'name': 'Dark Pied', 'geneName': 'Pied', 'alleles': ['WT', 'p'] },\n",
    "    { 'name': 'Dark Pied', 'geneName': 'Pied', 'alleles': ['WT', 'W'] }\n",
    "]\n",
    "# WHEN getHetPhenotypesFromBird is called\n",
    "phenotypes = getHetPhenotypesFromBird(bird, [], hetPhenotypes)\n",
    "# THEN the phenotype will be \"Pied\"\n",
    "if len(phenotypes) != 1 or not phenotypes[0] == \"Pied\":\n",
    "    raise Exception('Failed to verify het gene phenotype converter - incorrect phenotype found')"
   ]
  },
  {
   "cell_type": "markdown",
   "id": "1acef812-0f37-4049-b4c8-945b2440bbde",
   "metadata": {},
   "source": [
    "### Determining the Final Phenotype\n",
    "\n",
    "Now that we have a bunch of functions that can determine parts of the bird's phenotype, we can put it all together to determine the final phenotype for a bird"
   ]
  },
  {
   "cell_type": "code",
   "execution_count": 28,
   "id": "25993fef-379a-4289-830c-edc1b497a083",
   "metadata": {},
   "outputs": [],
   "source": [
    "def getPhenotypeFromBird(bird, sex, wildType, simpleGenes, multiAllotypeGenes, hetAllotypeGenes, multiGeneTraits):\n",
    "    # Because phenotypes are not mutually exclusive, we want to track \n",
    "    # all possible phenotypes\n",
    "    birdPhenotypes = []\n",
    "\n",
    "    # We need to check all the simple genes to see if we can find a phenotype name\n",
    "    birdPhenotypes = getSimplePhenotypesFromBird(bird, birdPhenotypes, simpleGenes)\n",
    "\n",
    "    # All multi-allotype genes\n",
    "    for gene in multiAllotypeGenes:\n",
    "        birdPhenotypes = getPhenotypesForGeneFromBird(bird, birdPhenotypes, sex,\n",
    "                                                      gene['name'], gene['allotypes'], gene['sexLinked'])\n",
    "\n",
    "    # And all het genes\n",
    "    birdPhenotypes = getHetPhenotypesFromBird(bird, birdPhenotypes, hetAllotypeGenes)\n",
    "\n",
    "    # Once we have all possible phenotypes, we need to check if they combine\n",
    "    multiGeneTraitExactMatch = False\n",
    "    for phenotype in multiGeneTraits:\n",
    "        matchesPhenotype = True\n",
    "        # We want to make sure that all phenotypes in the genes needed list have been identified\n",
    "        for gene in phenotype['genesNeeded']:\n",
    "            if not gene in birdPhenotypes:\n",
    "                matchesPhenotype = False\n",
    "                break\n",
    "                \n",
    "        if matchesPhenotype:\n",
    "            # We also want to check that the number of found phenotypes EXACTLY \n",
    "            multiGeneTraitExactMatch = multiGeneTraitExactMatch or len(phenotype['genesNeeded']) == len(birdPhenotypes)\n",
    "            birdPhenotypes.append(phenotype['name'])\n",
    "\n",
    "    # Birds are wild type by default, or else are the last item in the phenotypes array\n",
    "    finalBirdPhenotype = birdPhenotypes[-1] if len(birdPhenotypes) > 0 else wildType\n",
    "    # We also want to track whether or not this phenotype has ever been \n",
    "    # observed before (ie if we have a record of it)\n",
    "    isUnknownPhenotype = False if len(birdPhenotypes) == 1 else multiGeneTraitExactMatch\n",
    "    return (finalBirdPhenotype, birdPhenotypes, isUnknownPhenotype)"
   ]
  },
  {
   "cell_type": "markdown",
   "id": "6ea8b987-2e8b-4918-876b-8cefa86774b5",
   "metadata": {},
   "source": [
    "#### getPhenotypeFromBird Tests"
   ]
  },
  {
   "cell_type": "code",
   "execution_count": 29,
   "id": "16055440-c9e3-4d03-9334-d5fc103af307",
   "metadata": {},
   "outputs": [],
   "source": [
    "# GIVEN a bird genome with a genotype for \"Fake Gene\"\n",
    "bird = {'Fake Gene': 'f/f'}\n",
    "# AND a list of simple genes\n",
    "colorGenes = [\n",
    "    { 'notation': 'br',      'name': 'Bronze' },\n",
    "    { 'notation': 'f',       'name': 'Fake Gene' }\n",
    "]\n",
    "# WHEN getPhenotypeFromBird is called\n",
    "(phenotype, otherPhenotypes, isUnknown) = getPhenotypeFromBird(bird, \"Male\", 'Wild Type', colorGenes, [], [], [])\n",
    "# THEN the phenotype will be \"Fake Gene\"\n",
    "if len(otherPhenotypes) != 1 or not phenotype == \"Fake Gene\":\n",
    "    raise Exception('Failed to verify gene-to-phenotype converter - incorrect phenotype found')"
   ]
  },
  {
   "cell_type": "code",
   "execution_count": 30,
   "id": "3cee5c9e-e292-4baa-85af-77985422adaf",
   "metadata": {},
   "outputs": [],
   "source": [
    "# GIVEN a female bird genome with a genotype for \"Sex-Linked Color\"\n",
    "bird = {'Sex-Linked Color': 'Z(c)/w'}\n",
    "# AND a list of allotypes\n",
    "sexLinkedColorAllotypes = [\n",
    "    { 'notation': 'Z(c)',    'name': 'Cameo' },\n",
    "    { 'notation': 'Z(pl)',   'name': 'American Purple' }\n",
    "]\n",
    "# WHEN getPhenotypeFromBird is called on a female bird for a sex-linked gene\n",
    "(phenotype, otherPhenotypes, isUnknown) = getPhenotypeFromBird(bird, \"Female\", 'Wild Type', [], \n",
    "    [{ 'name': 'Sex-Linked Color', 'allotypes': sexLinkedColorAllotypes, 'sexLinked': True }], [], [])\n",
    "# THEN the phenotype will be \"Cameo\"\n",
    "if len(otherPhenotypes) != 1 or not phenotype == \"Cameo\":\n",
    "    raise Exception('Failed to verify allotype gene phenotype converter - incorrect phenotype found')"
   ]
  },
  {
   "cell_type": "code",
   "execution_count": 31,
   "id": "dd75d24c-cb0e-4ac5-8744-7c799e10065d",
   "metadata": {},
   "outputs": [],
   "source": [
    "# GIVEN a bird genome with a genotype for \"Pied\"\n",
    "bird = {'Pied': 'W/p'}\n",
    "# AND a list of het phenotypes\n",
    "hetPhenotypes = [\n",
    "    { 'name': 'Pied',      'geneName': 'Pied', 'alleles': ['W', 'p'] },\n",
    "    { 'name': 'Dark Pied', 'geneName': 'Pied', 'alleles': ['WT', 'p'] },\n",
    "    { 'name': 'Dark Pied', 'geneName': 'Pied', 'alleles': ['WT', 'W'] }\n",
    "]\n",
    "# WHEN getHetPhenotypesFromBird is called\n",
    "(phenotype, otherPhenotypes, isUnknown) = getPhenotypeFromBird(bird, \"Female\", 'Wild Type', colorGenes, \n",
    "    [{ 'name': 'Sex-Linked Color', 'allotypes': sexLinkedColorAllotypes, 'sexLinked': True }], hetPhenotypes, [])\n",
    "# THEN the phenotype will be \"Pied\"\n",
    "if len(otherPhenotypes) != 1 or not phenotype == \"Pied\":\n",
    "    raise Exception('Failed to verify het gene phenotype converter - incorrect phenotype found')"
   ]
  },
  {
   "cell_type": "code",
   "execution_count": 32,
   "id": "38a56fc3-aab6-4a49-b78f-6f709a87d700",
   "metadata": {},
   "outputs": [
    {
     "name": "stdout",
     "output_type": "stream",
     "text": [
      "['Opal', 'American Purple', 'Taupe']\n"
     ]
    }
   ],
   "source": [
    "# GIVEN a bird genome with a genotype for \"Taupe\"\n",
    "bird = { 'Opal': 'o/o', 'Sex-Linked Color': 'Z(pl)/w' }\n",
    "# AND a list of simple genes\n",
    "colorGenes = [\n",
    "    { 'notation': 'o',      'name': 'Opal' },\n",
    "    { 'notation': 'f',      'name': 'Fake Gene' }\n",
    "]\n",
    "# AND a list of allotypes\n",
    "sexLinkedColorAllotypes = [\n",
    "    { 'notation': 'Z(c)',    'name': 'Cameo' },\n",
    "    { 'notation': 'Z(pl)',   'name': 'American Purple' }\n",
    "]\n",
    "# AND a list of multi-gene traits\n",
    "multiGeneColors = [\n",
    "    { 'name': 'Platinum',   'genesNeeded': ['Bronze', 'Opal' ] },\n",
    "    { 'name': 'Taupe',      'genesNeeded': ['American Purple', 'Opal' ] }\n",
    "]\n",
    "# WHEN getHetPhenotypesFromBird is called\n",
    "(phenotype, otherPhenotypes, isUnknown) = getPhenotypeFromBird(bird, \"Female\", 'Wild Type', colorGenes, \n",
    "    [{ 'name': 'Sex-Linked Color', 'allotypes': sexLinkedColorAllotypes, 'sexLinked': True }], [], multiGeneColors)\n",
    "# THEN the phenotype will be \"Taupe\"\n",
    "if not phenotype == \"Taupe\":\n",
    "    raise Exception('Failed to verify multi gene phenotype converter - incorrect phenotype found')\n",
    "# AND the otherPhenotypes will have opal and purple\n",
    "if not len(otherPhenotypes) == 3:\n",
    "    raise Exception('Failed to verify het gene phenotype converter - other phenotypes incorrect')"
   ]
  },
  {
   "cell_type": "markdown",
   "id": "d022915a-4358-4845-bd40-7668c44958bc",
   "metadata": {},
   "source": [
    "# Holding"
   ]
  },
  {
   "cell_type": "code",
   "execution_count": 33,
   "id": "5cc780ba-e8cb-44af-8614-182633800124",
   "metadata": {},
   "outputs": [],
   "source": [
    "    \n",
    "\n",
    "def getColorFromBird(bird, sex):\n",
    "    # Birds are wild type by default\n",
    "    finalBirdColor = \"Wild Type\"\n",
    "    # Because colors are not mutually exclusive, we want to track \n",
    "    # all possible colors\n",
    "    otherBirdColors = []\n",
    "    \n",
    "    # Set sex to default if not defined so we don't \n",
    "    # break things when we try to check the sex-linked color\n",
    "    if not 'Sex-Linked Color' in bird:\n",
    "        if sex == 'Male':\n",
    "            bird['Sex-Linked Color'] = 'Z(WT)/Z(WT)'\n",
    "        else: \n",
    "            bird['Sex-Linked Color'] = 'Z(WT)/w'\n",
    "    \n",
    "    # Bird color special cases\n",
    "    if bird['Sex-Linked Color'] == 'Z(c)/Z(pl:c)':\n",
    "        finalBirdColor = 'Cameo'\n",
    "    elif bird['Sex-Linked Color'] == 'Z(pl)/Z(pl:c)':\n",
    "        finalBirdColor = 'American Purple'\n",
    "\n",
    "    # Check if bird color matches any simple colors\n",
    "    for gene in colorGenes:\n",
    "        if gene['name'] in bird:\n",
    "            if bird[gene['name']] == gene['notation'] + '/' + gene['notation']:\n",
    "                # Add the previous bird color to a list, and change the final color\n",
    "                otherBirdColors.append(finalBirdColor)\n",
    "                finalBirdColor = gene['name']\n",
    "\n",
    "    # Check if bird color matches any sex-linked colors\n",
    "    for allotype in sexLinkedColorAllotypes:\n",
    "        if 'Sex-Linked Color' in bird and ((sex == 'Male' and bird['Sex-Linked Color'] == allotype['notation'] + '/' + allotype['notation']) or\n",
    "            (sex == 'Female' and bird['Sex-Linked Color'] == allotype['notation'] + '/w')):\n",
    "            # Add the previous bird color to a list, and change the final color\n",
    "            otherBirdColors.append(finalBirdColor)\n",
    "            finalBirdColor = allotype['name']\n",
    "\n",
    "    # Check bird color matches sexAndAutosomal Combo\n",
    "    for color in sexAndAutosomalComboColors:\n",
    "        matchesAll = True\n",
    "        \n",
    "        for gene in colorGenes:\n",
    "            # If the current gene is part of the color\n",
    "            if (gene['notation'] == color['autosomalGene'] and \n",
    "                # and the current gene is NOT in the bird\n",
    "                (not gene['name'] in bird or \n",
    "                bird[gene['name']] != gene['notation'] + '/' + gene['notation'])):\n",
    "                # then we know the bird does NOT have the color, and we do not \n",
    "                # have to check any other genes\n",
    "                matchesAll = False\n",
    "                break\n",
    "\n",
    "        # If we did not find an autosomal gene, we don't need to check the\n",
    "        # sex-linked genes\n",
    "        if not matchesAll:\n",
    "            continue\n",
    "        \n",
    "        for allotype in sexLinkedColorAllotypes:\n",
    "            # If the current gene is part of the color\n",
    "            if (allotype['notation'] == color['sexGene'] and \n",
    "                # and the current gene is NOT in the bird\n",
    "                (not 'Sex-Linked Color' in bird or \n",
    "                 (sex == 'Male' and bird['Sex-Linked Color'] != allotype['notation'] + '/' + allotype['notation']) or\n",
    "                 (sex == 'Female' and bird['Sex-Linked Color'] != allotype['notation'] + '/w'))):\n",
    "                matchesAll = False\n",
    "                break\n",
    "\n",
    "        # If matchesAllGenes is still true here, we know the bird must have\n",
    "            # all the needed genes for the color\n",
    "        if matchesAll:\n",
    "            # Add the previous bird color to a list, and change the final color\n",
    "            otherBirdColors.append(finalBirdColor)\n",
    "            finalBirdColor = color['name']\n",
    "                \n",
    "\n",
    "    # Check bird color matches multi-gene color\n",
    "    for color in multiGeneColors:\n",
    "        # Make sure all genes needed to make the color are availible in the bird\n",
    "        matchesAllGenes = True\n",
    "        for gene in colorGenes:\n",
    "            # If the current gene is part of the color\n",
    "            if (gene['notation'] in color['genes'] and \n",
    "                # and the current gene is NOT in the bird\n",
    "                ( not gene['name'] in bird or \n",
    "                bird[gene['name']] != gene['notation'] + '/' + gene['notation'])):\n",
    "                # then we know the bird does NOT have the color, and we do not \n",
    "                # have to check any other genes\n",
    "                matchesAllGenes = False\n",
    "                break\n",
    "\n",
    "        # If matchesAllGenes is still true here, we know the bird must have\n",
    "        # all the needed genes for the color\n",
    "        if matchesAllGenes:\n",
    "            # Add the previous bird color to a list, and change the final color\n",
    "            otherBirdColors.append(finalBirdColor)\n",
    "            finalBirdColor = color['name']\n",
    "\n",
    "    for color in hetSexColors:\n",
    "        if bird['Sex-Linked Color'] == color['alleles'][0] + '/' + color['alleles'][1]:\n",
    "            # Add the previous bird color to a list, and change the final color\n",
    "            otherBirdColors.append(finalBirdColor)\n",
    "            finalBirdColor = color['name']\n",
    "\n",
    "    return (finalBirdColor, otherBirdColors)"
   ]
  },
  {
   "cell_type": "code",
   "execution_count": null,
   "id": "f6a177c2-f902-4e2a-8ce3-8145213588da",
   "metadata": {},
   "outputs": [],
   "source": []
  }
 ],
 "metadata": {
  "kernelspec": {
   "display_name": "Python 3 (ipykernel)",
   "language": "python",
   "name": "python3"
  },
  "language_info": {
   "codemirror_mode": {
    "name": "ipython",
    "version": 3
   },
   "file_extension": ".py",
   "mimetype": "text/x-python",
   "name": "python",
   "nbconvert_exporter": "python",
   "pygments_lexer": "ipython3",
   "version": "3.13.2"
  },
  "widgets": {
   "application/vnd.jupyter.widget-state+json": {
    "state": {},
    "version_major": 2,
    "version_minor": 0
   }
  }
 },
 "nbformat": 4,
 "nbformat_minor": 5
}
