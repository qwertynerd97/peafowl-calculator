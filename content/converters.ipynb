{
 "cells": [
  {
   "cell_type": "markdown",
   "id": "16aec6b8-339f-47c1-a933-f29e574aa6fe",
   "metadata": {},
   "source": [
    "# Genotype-Phenotype Converters\n",
    "This file creates the code that allows us to convert back and forth between a bird's genotype and its phenotype\n",
    "\n",
    "It also contains **Technical Note** sections throughout, that explain the coding and tech details of the code, and give links to external resources"
   ]
  },
  {
   "cell_type": "markdown",
   "id": "8ba9e595-42e2-47ca-9d48-28a1ba73bf1b",
   "metadata": {},
   "source": [
    "## Save Genotype\n",
    "First, we create a function that lets us take a dictionary of genes in the bird, and add or update the genotype for a specific gene\n",
    "\n",
    "**Technical Note:** [A dictionary](https://docs.python.org/3/tutorial/datastructures.html#dictionaries) is a type of data in Python that contains a bunch of pieces of smaller data linked to specific words. Data can be saved under a specific name, and then retrived by using that same name, much like definitions in a paper dictionary."
   ]
  },
  {
   "cell_type": "code",
   "execution_count": 1,
   "id": "7cfb0889-b7c5-4954-a81f-75562de06e2f",
   "metadata": {},
   "outputs": [],
   "source": [
    "def saveGenotypeToBird(bird, geneName, genotype):\n",
    "    bird[geneName] = genotype"
   ]
  },
  {
   "cell_type": "markdown",
   "id": "656fa3ad-ca5d-416b-8841-67ce1c986bc0",
   "metadata": {},
   "source": [
    "We can test this code by adding a new gene to a bird, and seeing that the genotype is updated.\n",
    "\n",
    "**Technical Note:** This block of code is called a unit test, and is used to verify that the main code actually does what we want it to do.  The comments are formatted in [Gherkin](https://cucumber.io/docs/gherkin/), which is a language that is used to describe code tests in a human-readable way\n",
    "\n",
    "**Technical Note:** If the tests pass, the code block with the tests will not produce any output, so that when we reuse these functions in another notebook, we don't change the UI.  If the tests fail, then the code block will produce errors."
   ]
  },
  {
   "cell_type": "code",
   "execution_count": 2,
   "id": "e464ce3c-e6ee-4bad-9822-67dac643d9b4",
   "metadata": {},
   "outputs": [],
   "source": [
    "# GIVEN an empty bird genome\n",
    "bird = {}\n",
    "# WHEN saveGenotypeToBird is called with a \"Fake Gene\" genotype of \"WT/WT\"\n",
    "saveGenotypeToBird(bird, \"Fake Gene\", \"WT/WT\")\n",
    "# THEN the bird will contain a \"WT/WT\" genotype for \"Fake Gene\"\n",
    "if not bird == {'Fake Gene': 'WT/WT'}:\n",
    "    raise Exception('Failed to verify genotype converter - Issue with adding gene to empty bird')\n",
    "\n",
    "# GIVEN a bird genome with a genotype for \"Fake Gene\"\n",
    "bird = {'Fake Gene': 'WT/WT'}\n",
    "# WHEN saveGenotypeToBird is called with a \"Fake Gene\" genotype of \"f/f\"\n",
    "saveGenotypeToBird(bird, \"Fake Gene\", \"f/f\")\n",
    "# THEN the bird will contain a \"f/f\" genotype for \"Fake Gene\"\n",
    "if not bird == {'Fake Gene': 'f/f'}:\n",
    "    raise Exception('Failed to verify genotype converter - Issue with updating genotype')"
   ]
  },
  {
   "cell_type": "markdown",
   "id": "6521ff0e-51c7-4d19-8fcf-108458eddd8b",
   "metadata": {},
   "source": [
    "## Save Phenotype\n",
    "Next, we need to create a function that takes a phenotype and saves it as a genotype.  We want to make sure to reset any genotype data that conflicts with the new phenotype, and handle cases where the phenotype may require more complex genotypes. We will break this down into several smaller functions, and link them all up together to form the final function that the peafowl calculator will actually use"
   ]
  },
  {
   "cell_type": "markdown",
   "id": "f8286d87-85ad-4b62-8bc4-8f166d8f9f2d",
   "metadata": {},
   "source": [
    "### Modify Simple Genes\n",
    "The first step in saving the phenotype will be to update the genotype for all the autosomal genes that only have two allotypes - wild type or a single possible trait.  To do this we will check each simple gene one-at-a-time.  If the name of the simple gene matches the given phenotype, we will update the genotype for that gene to be homozygous for the trait. However, if the name of the simple gene does NOT match the phenotype, we will delete any existing genotype for that gene, so it does not conflict with the given phenotype.\n",
    "\n",
    "(Don't worry about phenotypes that require multiple simple genes to be expressed; we will handle those in another function, and possibly deleting the genotypes that might be used in them will not prevent those genotypes from being re-updated when we handle those)\n",
    "\n",
    "If the phenotype was found during this update, we will return a **True** value, which will allow us to \n",
    "\n",
    "**Technical Note:** In order to check all the simple genes, we are using a [for loop](https://docs.python.org/3/tutorial/controlflow.html#for-statements), a piece of code that runs through all items in a list, and runs the same bits of code for each item in the list"
   ]
  },
  {
   "cell_type": "code",
   "execution_count": 5,
   "id": "49b3d5a6-5bd9-4865-9238-0efb1e0e8564",
   "metadata": {},
   "outputs": [],
   "source": [
    "def updateSimpleGenesWithPhenotype(bird, phenotype, simpleGenes):\n",
    "    foundPhenotype = False\n",
    "    \n",
    "    # Check simple genes\n",
    "    for gene in simpleGenes:\n",
    "        # If the current gene we are checking matches the selected\n",
    "        # phenotype, set the genotype in the bird equal to homozygous\n",
    "        # for the trait\n",
    "        if phenotype == gene['name']:\n",
    "            bird[gene['name']] = gene['notation'] + '/' + gene['notation']\n",
    "            foundPhenotype = True\n",
    "        # If the current gene we are checking does not match the phenotype\n",
    "        # we should clear the genotype for that gene\n",
    "        elif gene['name'] in bird:\n",
    "            del bird[gene['name']]\n",
    "\n",
    "    return foundPhenotype"
   ]
  },
  {
   "cell_type": "markdown",
   "id": "ad9b6613-25fc-428f-adb7-bea17fc7c280",
   "metadata": {},
   "source": [
    "We can test this code by creating a bird with a genotype, calling the function with a different phenotype than the one that would be displayed based on the bird's genotype, and making sure that the bird's genotype is changed to match the new phenotype\n",
    "\n",
    "Note that in this test we check that the new genotype exists, but we also check that the old genotype was deleted"
   ]
  },
  {
   "cell_type": "code",
   "execution_count": 9,
   "id": "3f3902bc-29e4-4963-abfb-c741c450019b",
   "metadata": {},
   "outputs": [],
   "source": [
    "# GIVEN a bird genome with a genotype for \"Fake Gene\"\n",
    "bird = {'Fake Gene': 'WT/WT'}\n",
    "# AND a list of simple genes\n",
    "colorGenes = [\n",
    "    { 'notation': 'br',      'name': 'Bronze' },\n",
    "    { 'notation': 'f',       'name': 'Fake Gene' }\n",
    "]\n",
    "# WHEN updateSimpleGenes is called\n",
    "found = updateSimpleGenesWithPhenotype(bird, \"Bronze\", colorGenes)\n",
    "# THEN the bird will contain a \"br/br\" genotype for \"Bronze\"\n",
    "if not bird == {'Bronze': 'br/br'}:\n",
    "    raise Exception('Failed to verify simple gene converter - new phenotype not added')\n",
    "# AND the bird will NOT contain a genotype for \"Fake Gene\"\n",
    "if 'Fake Gene' in bird:\n",
    "    raise Exception('Failed to verify simple gene converter - new phenotype not added')"
   ]
  },
  {
   "cell_type": "code",
   "execution_count": 6,
   "id": "15abb319-a78b-4c15-861c-7da58d828e7e",
   "metadata": {},
   "outputs": [],
   "source": [
    "# This converts a phenotype to a genotype in a bird\n",
    "# assuming the phenotype breeds true\n",
    "def savePhenotypeToBird(bird, phenotype, sex, simpleGenes, sexLinkedTrait, \n",
    "                        sexLinkedAllotypes, multiGeneTraits, \n",
    "                        sexAndAutosomalCombos, hetSexTraits):\n",
    "    foundPhenotype = updateSimpleGenesWithPhenotype(bird, phenotype, simpleGenes)\n",
    "\n",
    "    # Reset sex-linked traits to default wild type\n",
    "    if sexLinkedTrait in bird:\n",
    "        del bird[sexLinkedTrait]\n",
    "        \n",
    "    # Check all sex-linked allotypes the same way we checked the autosomal\n",
    "    # genes\n",
    "    for allotype in sexLinkedAllotypes:\n",
    "        if phenotype == allotype['name']:\n",
    "            if sex == 'Male':\n",
    "                bird[sexLinkedTrait] = allotype['notation'] + '/' + allotype['notation']\n",
    "            else: \n",
    "                bird[sexLinkedTrait] = allotype['notation'] + '/w'\n",
    "            foundPhenotype = True\n",
    "\n",
    "    # At this point, all trait genes have been cleared\n",
    "    # except for a matched phenotype\n",
    "    # If we have found the matching phenotype already,\n",
    "    # we can stop here\n",
    "    if foundPhenotype:\n",
    "        return\n",
    "\n",
    "    # Save the phenotype data for genotypes that match multiple genes\n",
    "    for trait in multiGeneTraits:\n",
    "        if phenotype == trait['name']:\n",
    "            # for each gene that makes up the multi-gene trait\n",
    "            for traitGeneNotation in trait['genes']:\n",
    "                # find that gene in the gene list and save it to the bird\n",
    "                for gene in simpleGenes:\n",
    "                    if gene['notation'] == traitGeneNotation:\n",
    "                        bird[gene['name']] = gene['notation'] + '/' + gene['notation']\n",
    "\n",
    "    # Save the phoenotype data for genes that require both autosomal and sex-linked trait\n",
    "    for trait in sexAndAutosomalCombos:\n",
    "        if phenotype == trait['name']:\n",
    "            # Save autosomal phenotype\n",
    "            for gene in simpleGenes:\n",
    "                if gene['notation'] == trait['autosomalGene']:\n",
    "                    bird[gene['name']] = gene['notation'] + '/' + gene['notation']\n",
    "\n",
    "            # Save sex phenotype\n",
    "            for allotype in sexLinkedAllotypes:\n",
    "                if allotype['notation'] == trait['sexGene']:\n",
    "                    if sex == 'Male':\n",
    "                        bird[sexLinkedTrait] = allotype['notation'] + '/' + allotype['notation']\n",
    "                    else: \n",
    "                        bird[sexLinkedTrait] = allotype['notation'] + '/w'\n",
    "                        \n",
    "    # Save phenotype for het sex traits\n",
    "    for trait in hetSexTraits:\n",
    "        if phenotype == trait['name'] and sex == 'Male':\n",
    "            bird[sexLinkedTrait] = trait['alleles'][0] + '/' + trait['alleles'][1]\n",
    "            "
   ]
  },
  {
   "cell_type": "code",
   "execution_count": 10,
   "id": "f03d78fd-c727-4d86-afc5-1826b7a4a6f7",
   "metadata": {},
   "outputs": [],
   "source": [
    "# Feature: Simple gene phenotypes work\n",
    "# GIVEN a bird genome with a genotype for \"Fake Gene\"\n",
    "bird = {'Fake Gene': 'WT/WT'}\n",
    "# AND a list of simple genes\n",
    "colorGenes = [\n",
    "    { 'notation': 'br',      'name': 'Bronze' },\n",
    "    { 'notation': 'f',       'name': 'Fake Gene' }\n",
    "]\n",
    "# WHEN updateSimpleGenes is called\n",
    "found = savePhenotypeToBird(bird, \"Bronze\", 'Male', colorGenes, 'Sex-Linked Color', [], [], [], [])\n",
    "# THEN the bird will contain a \"br/br\" genotype for \"Bronze\"\n",
    "if not bird == {'Bronze': 'br/br'}:\n",
    "    raise Exception('Failed to verify simple gene converter - new phenotype not added')\n",
    "# AND the bird will NOT contain a genotype for \"Fake Gene\"\n",
    "if 'Fake Gene' in bird:\n",
    "    raise Exception('Failed to verify simple gene converter - new phenotype not added')"
   ]
  },
  {
   "cell_type": "code",
   "execution_count": null,
   "id": "0cd913e0-183c-48ba-9287-c0967eb8a7da",
   "metadata": {},
   "outputs": [],
   "source": []
  }
 ],
 "metadata": {
  "kernelspec": {
   "display_name": "Python 3 (ipykernel)",
   "language": "python",
   "name": "python3"
  },
  "language_info": {
   "codemirror_mode": {
    "name": "ipython",
    "version": 3
   },
   "file_extension": ".py",
   "mimetype": "text/x-python",
   "name": "python",
   "nbconvert_exporter": "python",
   "pygments_lexer": "ipython3",
   "version": "3.13.2"
  },
  "widgets": {
   "application/vnd.jupyter.widget-state+json": {
    "state": {},
    "version_major": 2,
    "version_minor": 0
   }
  }
 },
 "nbformat": 4,
 "nbformat_minor": 5
}
